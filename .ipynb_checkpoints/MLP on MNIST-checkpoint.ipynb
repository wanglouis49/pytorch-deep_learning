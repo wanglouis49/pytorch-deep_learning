{
 "cells": [
  {
   "cell_type": "code",
   "execution_count": 1,
   "metadata": {
    "collapsed": true
   },
   "outputs": [],
   "source": [
    "import torch\n",
    "import torch.nn as nn\n",
    "import torchvision.datasets as dsets\n",
    "import torchvision.transforms as transforms\n",
    "from torch.autograd import Variable\n",
    "import matplotlib.pyplot as plt"
   ]
  },
  {
   "cell_type": "code",
   "execution_count": 5,
   "metadata": {
    "collapsed": true
   },
   "outputs": [],
   "source": [
    "# Hyper Parameters \n",
    "input_size = 784\n",
    "hidden_size = 20\n",
    "num_classes = 10\n",
    "num_epochs = 5\n",
    "batch_size = 100\n",
    "learning_rate = 1e-4"
   ]
  },
  {
   "cell_type": "code",
   "execution_count": 3,
   "metadata": {
    "collapsed": true
   },
   "outputs": [],
   "source": [
    "# MNIST Dataset \n",
    "train_dataset = dsets.MNIST(root='../data', \n",
    "                            train=True, \n",
    "                            transform=transforms.ToTensor(),  \n",
    "                            download=True)\n",
    "\n",
    "test_dataset = dsets.MNIST(root='../data', \n",
    "                           train=False, \n",
    "                           transform=transforms.ToTensor())\n",
    "\n",
    "# Data Loader (Input Pipeline)\n",
    "train_loader = torch.utils.data.DataLoader(dataset=train_dataset, \n",
    "                                           batch_size=batch_size, \n",
    "                                           shuffle=True)\n",
    "\n",
    "test_loader = torch.utils.data.DataLoader(dataset=test_dataset, \n",
    "                                          batch_size=batch_size, \n",
    "                                          shuffle=False)"
   ]
  },
  {
   "cell_type": "code",
   "execution_count": 6,
   "metadata": {
    "collapsed": true
   },
   "outputs": [],
   "source": [
    "# Neural Network Model\n",
    "class Net(nn.Module):\n",
    "    def __init__(self, input_size, hidden_size, num_classes):\n",
    "        super(Net, self).__init__()\n",
    "        self.fc1 = nn.Linear(input_size, hidden_size) \n",
    "        self.relu = nn.ReLU()\n",
    "        self.fc2 = nn.Linear(hidden_size, num_classes)\n",
    "    \n",
    "    def forward(self, x):\n",
    "        out = self.fc1(x)\n",
    "        out = self.relu(out)\n",
    "        out = self.fc2(out)\n",
    "        return out"
   ]
  },
  {
   "cell_type": "code",
   "execution_count": 7,
   "metadata": {
    "collapsed": true
   },
   "outputs": [],
   "source": [
    "net = Net(input_size, hidden_size, num_classes)\n",
    "criterion = nn.CrossEntropyLoss()\n",
    "optimizer = torch.optim.SGD(net.parameters(), lr=learning_rate)"
   ]
  },
  {
   "cell_type": "code",
   "execution_count": 9,
   "metadata": {
    "collapsed": false
   },
   "outputs": [
    {
     "name": "stdout",
     "output_type": "stream",
     "text": [
      "Epoch [1/5], Step [100/600], Loss: 2.3101\n",
      "Epoch [1/5], Step [200/600], Loss: 2.3220\n",
      "Epoch [1/5], Step [300/600], Loss: 2.3054\n",
      "Epoch [1/5], Step [400/600], Loss: 2.3223\n",
      "Epoch [1/5], Step [500/600], Loss: 2.3093\n",
      "Epoch [1/5], Step [600/600], Loss: 2.2971\n",
      "Epoch [2/5], Step [100/600], Loss: 2.2933\n",
      "Epoch [2/5], Step [200/600], Loss: 2.2970\n",
      "Epoch [2/5], Step [300/600], Loss: 2.2987\n",
      "Epoch [2/5], Step [400/600], Loss: 2.3129\n",
      "Epoch [2/5], Step [500/600], Loss: 2.2792\n",
      "Epoch [2/5], Step [600/600], Loss: 2.2916\n",
      "Epoch [3/5], Step [100/600], Loss: 2.2913\n",
      "Epoch [3/5], Step [200/600], Loss: 2.2857\n",
      "Epoch [3/5], Step [300/600], Loss: 2.2988\n",
      "Epoch [3/5], Step [400/600], Loss: 2.2940\n",
      "Epoch [3/5], Step [500/600], Loss: 2.2812\n",
      "Epoch [3/5], Step [600/600], Loss: 2.2955\n",
      "Epoch [4/5], Step [100/600], Loss: 2.2810\n",
      "Epoch [4/5], Step [200/600], Loss: 2.2572\n",
      "Epoch [4/5], Step [300/600], Loss: 2.2753\n",
      "Epoch [4/5], Step [400/600], Loss: 2.2966\n",
      "Epoch [4/5], Step [500/600], Loss: 2.2730\n",
      "Epoch [4/5], Step [600/600], Loss: 2.2668\n",
      "Epoch [5/5], Step [100/600], Loss: 2.2866\n",
      "Epoch [5/5], Step [200/600], Loss: 2.2724\n",
      "Epoch [5/5], Step [300/600], Loss: 2.2642\n",
      "Epoch [5/5], Step [400/600], Loss: 2.2811\n",
      "Epoch [5/5], Step [500/600], Loss: 2.2986\n",
      "Epoch [5/5], Step [600/600], Loss: 2.2736\n"
     ]
    }
   ],
   "source": [
    "for epoch in range(num_epochs):\n",
    "    for i, (images, labels) in enumerate(train_loader):\n",
    "        images = Variable(images.view(-1, 28*28))\n",
    "        labels = Variable(labels)\n",
    "        \n",
    "        optimizer.zero_grad()\n",
    "        outputs = net(images)\n",
    "        loss = criterion(outputs, labels)\n",
    "        loss.backward()\n",
    "        optimizer.step()\n",
    "        \n",
    "        if (i+1) % 100 == 0:\n",
    "            print ('Epoch [%d/%d], Step [%d/%d], Loss: %.4f' \\\n",
    "                   %(epoch+1, num_epochs, i+1, len(train_dataset)//batch_size, loss.data[0]))"
   ]
  },
  {
   "cell_type": "code",
   "execution_count": 10,
   "metadata": {
    "collapsed": false
   },
   "outputs": [
    {
     "name": "stdout",
     "output_type": "stream",
     "text": [
      "Accuracy of the network on the 60000 train images: 16.341667 %\n"
     ]
    }
   ],
   "source": [
    "# Train error of the Model\n",
    "correct = 0\n",
    "total = 0\n",
    "for images, labels in train_loader:\n",
    "    images = Variable(images.view(-1, 28*28))\n",
    "    outputs = net(images)\n",
    "    _, predicted = torch.max(outputs.data, 1)\n",
    "    total += labels.size(0)\n",
    "    correct += (predicted == labels).sum()\n",
    "\n",
    "print('Accuracy of the network on the 60000 train images: %f %%' % (100. * correct / total))"
   ]
  },
  {
   "cell_type": "code",
   "execution_count": 11,
   "metadata": {
    "collapsed": false
   },
   "outputs": [
    {
     "name": "stdout",
     "output_type": "stream",
     "text": [
      "Accuracy of the network on the 10000 test images: 17.010000 %\n"
     ]
    }
   ],
   "source": [
    "# Test the Model\n",
    "correct = 0\n",
    "total = 0\n",
    "for images, labels in test_loader:\n",
    "    images = Variable(images.view(-1, 28*28))\n",
    "    outputs = net(images)\n",
    "    _, predicted = torch.max(outputs.data, 1)\n",
    "    total += labels.size(0)\n",
    "    correct += (predicted == labels).sum()\n",
    "\n",
    "print('Accuracy of the network on the 10000 test images: %f %%' % (100. * correct / total))"
   ]
  }
 ],
 "metadata": {
  "anaconda-cloud": {},
  "kernelspec": {
   "display_name": "Python [default]",
   "language": "python",
   "name": "python2"
  },
  "language_info": {
   "codemirror_mode": {
    "name": "ipython",
    "version": 2
   },
   "file_extension": ".py",
   "mimetype": "text/x-python",
   "name": "python",
   "nbconvert_exporter": "python",
   "pygments_lexer": "ipython2",
   "version": "2.7.12"
  }
 },
 "nbformat": 4,
 "nbformat_minor": 1
}
