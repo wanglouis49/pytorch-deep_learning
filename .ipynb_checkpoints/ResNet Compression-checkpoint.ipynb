{
 "cells": [
  {
   "cell_type": "markdown",
   "metadata": {},
   "source": [
    "# Model Compression of a 8 Layer ResNet\n",
    "\n",
    "- One-layer neural network\n",
    "- Random forests\n",
    "- Gradient boosting"
   ]
  },
  {
   "cell_type": "code",
   "execution_count": 1,
   "metadata": {
    "collapsed": true
   },
   "outputs": [],
   "source": [
    "import torch \n",
    "import torch.nn as nn\n",
    "import torchvision.datasets as dsets\n",
    "import torchvision.transforms as transforms\n",
    "from torch.autograd import Variable\n",
    "import matplotlib.pyplot as plt\n",
    "from time import time"
   ]
  },
  {
   "cell_type": "markdown",
   "metadata": {},
   "source": [
    "### Load CIFAR-10 Data"
   ]
  },
  {
   "cell_type": "code",
   "execution_count": 2,
   "metadata": {
    "collapsed": false
   },
   "outputs": [
    {
     "name": "stdout",
     "output_type": "stream",
     "text": [
      "Files already downloaded and verified\n"
     ]
    }
   ],
   "source": [
    "# Image Preprocessing \n",
    "transform = transforms.Compose([\n",
    "    transforms.Scale(40),\n",
    "    transforms.RandomHorizontalFlip(),\n",
    "    transforms.RandomCrop(32),\n",
    "    transforms.ToTensor()])\n",
    "\n",
    "# CIFAR-10 Dataset\n",
    "train_dataset = dsets.CIFAR10(root='../data/',\n",
    "                               train=True, \n",
    "                               transform=transform,\n",
    "                               download=True)\n",
    "\n",
    "test_dataset = dsets.CIFAR10(root='../data/',\n",
    "                              train=False, \n",
    "                              transform=transforms.ToTensor())\n",
    "\n",
    "# Data Loader (Input Pipeline)\n",
    "train_loader = torch.utils.data.DataLoader(dataset=train_dataset,\n",
    "                                           batch_size=100, \n",
    "                                           shuffle=True)\n",
    "\n",
    "test_loader = torch.utils.data.DataLoader(dataset=test_dataset,\n",
    "                                          batch_size=100, \n",
    "                                          shuffle=False)"
   ]
  },
  {
   "cell_type": "markdown",
   "metadata": {},
   "source": [
    "### 1 conv + 6 res + 1 fc ResNet\n",
    "\n",
    "This pretrained ResNet has a test accuracy of 81.05%"
   ]
  },
  {
   "cell_type": "code",
   "execution_count": 3,
   "metadata": {
    "collapsed": true
   },
   "outputs": [],
   "source": [
    "# 3x3 Convolution\n",
    "def conv3x3(in_channels, out_channels, stride=1):\n",
    "    return nn.Conv2d(in_channels, out_channels, kernel_size=3, \n",
    "                     stride=stride, padding=1, bias=False)\n",
    "\n",
    "# Residual Block\n",
    "class ResidualBlock(nn.Module):\n",
    "    def __init__(self, in_channels, out_channels, stride=1, downsample=None):\n",
    "        super(ResidualBlock, self).__init__()\n",
    "        self.conv1 = conv3x3(in_channels, out_channels, stride)\n",
    "        self.bn1 = nn.BatchNorm2d(out_channels)\n",
    "        self.relu = nn.ReLU(inplace=True)\n",
    "        self.conv2 = conv3x3(out_channels, out_channels)\n",
    "        self.bn2 = nn.BatchNorm2d(out_channels)\n",
    "        self.downsample = downsample\n",
    "        \n",
    "    def forward(self, x):\n",
    "        residual = x\n",
    "        out = self.conv1(x)\n",
    "        out = self.bn1(out)\n",
    "        out = self.relu(out)\n",
    "        out = self.conv2(out)\n",
    "        out = self.bn2(out)\n",
    "        if self.downsample:\n",
    "            residual = self.downsample(x)\n",
    "        out += residual\n",
    "        out = self.relu(out)\n",
    "        return out"
   ]
  },
  {
   "cell_type": "code",
   "execution_count": 4,
   "metadata": {
    "collapsed": true
   },
   "outputs": [],
   "source": [
    "# ResNet Module\n",
    "class ResNet(nn.Module):\n",
    "    def __init__(self, block, layers, num_classes=10):\n",
    "        super(ResNet, self).__init__()\n",
    "        self.in_channels = 16\n",
    "        self.conv = conv3x3(3, 16)\n",
    "        self.bn = nn.BatchNorm2d(16)\n",
    "        self.relu = nn.ReLU(inplace=True)\n",
    "        self.layer1 = self.make_layer(block, 16, layers[0])\n",
    "        self.layer2 = self.make_layer(block, 32, layers[1], 2)\n",
    "        self.layer3 = self.make_layer(block, 64, layers[2], 2)\n",
    "        self.avg_pool = nn.AvgPool2d(8)\n",
    "        self.fc = nn.Linear(64, num_classes)\n",
    "        \n",
    "    def make_layer(self, block, out_channels, blocks, stride=1):\n",
    "        downsample = None\n",
    "        if (stride != 1) or (self.in_channels != out_channels):\n",
    "            downsample = nn.Sequential(\n",
    "                conv3x3(self.in_channels, out_channels, stride=stride),\n",
    "                nn.BatchNorm2d(out_channels))\n",
    "        layers = []\n",
    "        layers.append(block(self.in_channels, out_channels, stride, downsample))\n",
    "        self.in_channels = out_channels\n",
    "        for i in range(1, blocks):\n",
    "            layers.append(block(out_channels, out_channels))\n",
    "        return nn.Sequential(*layers)\n",
    "    \n",
    "    def forward(self, x):\n",
    "        out = self.conv(x)\n",
    "        out = self.bn(out)\n",
    "        out = self.relu(out)\n",
    "        out = self.layer1(out)\n",
    "        out = self.layer2(out)\n",
    "        out = self.layer3(out)\n",
    "        out = self.avg_pool(out)\n",
    "        out = out.view(out.size(0), -1)\n",
    "        out = self.fc(out)\n",
    "        return nn.functional.log_softmax(out)"
   ]
  },
  {
   "cell_type": "code",
   "execution_count": 5,
   "metadata": {
    "collapsed": false
   },
   "outputs": [],
   "source": [
    "# Load the precomputed ResNet\n",
    "resnet = torch.load('resnet.pkl')"
   ]
  },
  {
   "cell_type": "markdown",
   "metadata": {},
   "source": [
    "### One-layer shallow NN"
   ]
  },
  {
   "cell_type": "code",
   "execution_count": 6,
   "metadata": {
    "collapsed": false
   },
   "outputs": [],
   "source": [
    "# Hyper Parameters\n",
    "input_size = 32*32*3\n",
    "hidden_size = 4096\n",
    "num_classes = 10\n",
    "num_epochs = 10\n",
    "batch_size = 100\n",
    "learning_rate = 0.001"
   ]
  },
  {
   "cell_type": "code",
   "execution_count": 7,
   "metadata": {
    "collapsed": false
   },
   "outputs": [],
   "source": [
    "# Neural Network Model (1 hidden layer)\n",
    "class Net1(nn.Module):\n",
    "    def __init__(self, input_size, hidden_size, num_classes):\n",
    "        super(Net1, self).__init__()\n",
    "        self.fc1 = nn.Linear(input_size, hidden_size) \n",
    "        self.relu = nn.ReLU()\n",
    "        self.fc2 = nn.Linear(hidden_size, num_classes)  \n",
    "    \n",
    "    def forward(self, x):\n",
    "        out = self.fc1(x)\n",
    "        out = self.relu(out)\n",
    "        out = self.fc2(out)\n",
    "        return out"
   ]
  },
  {
   "cell_type": "code",
   "execution_count": 103,
   "metadata": {
    "collapsed": true
   },
   "outputs": [],
   "source": [
    "net = Net1(input_size, hidden_size, num_classes)\n",
    "\n",
    "# Loss and Optimizer\n",
    "criterion = nn.CrossEntropyLoss()  \n",
    "optimizer = torch.optim.Adam(net.parameters(), lr=learning_rate) "
   ]
  },
  {
   "cell_type": "code",
   "execution_count": 104,
   "metadata": {
    "collapsed": false,
    "scrolled": true
   },
   "outputs": [
    {
     "name": "stdout",
     "output_type": "stream",
     "text": [
      "Epoch [1/10], Iter [100/500] Loss: 1.9425 Time 60.70s\n",
      "Epoch [1/10], Iter [200/500] Loss: 1.9127 Time 114.47s\n",
      "Epoch [1/10], Iter [300/500] Loss: 1.7778 Time 167.59s\n",
      "Epoch [1/10], Iter [400/500] Loss: 1.8754 Time 219.45s\n",
      "Epoch [1/10], Iter [500/500] Loss: 1.7591 Time 271.80s\n",
      "Epoch [2/10], Iter [100/500] Loss: 1.9886 Time 52.58s\n",
      "Epoch [2/10], Iter [200/500] Loss: 1.9698 Time 150.13s\n",
      "Epoch [2/10], Iter [300/500] Loss: 1.6710 Time 311.66s\n",
      "Epoch [2/10], Iter [400/500] Loss: 1.6867 Time 465.02s\n",
      "Epoch [2/10], Iter [500/500] Loss: 1.8313 Time 590.11s\n",
      "Epoch [3/10], Iter [100/500] Loss: 1.6139 Time 115.48s\n",
      "Epoch [3/10], Iter [200/500] Loss: 1.6791 Time 236.48s\n",
      "Epoch [3/10], Iter [300/500] Loss: 1.7099 Time 354.89s\n",
      "Epoch [3/10], Iter [400/500] Loss: 1.6773 Time 469.50s\n",
      "Epoch [3/10], Iter [500/500] Loss: 1.7687 Time 588.45s\n",
      "Epoch [4/10], Iter [100/500] Loss: 1.6190 Time 118.74s\n",
      "Epoch [4/10], Iter [200/500] Loss: 1.6319 Time 240.72s\n",
      "Epoch [4/10], Iter [300/500] Loss: 1.5681 Time 359.92s\n",
      "Epoch [4/10], Iter [400/500] Loss: 1.7159 Time 478.33s\n",
      "Epoch [4/10], Iter [500/500] Loss: 1.6881 Time 598.24s\n",
      "Epoch [5/10], Iter [100/500] Loss: 1.6998 Time 121.80s\n",
      "Epoch [5/10], Iter [200/500] Loss: 1.5796 Time 242.23s\n",
      "Epoch [5/10], Iter [300/500] Loss: 1.7629 Time 360.60s\n",
      "Epoch [5/10], Iter [400/500] Loss: 1.4945 Time 481.36s\n",
      "Epoch [5/10], Iter [500/500] Loss: 1.4171 Time 614.61s\n",
      "Epoch [6/10], Iter [100/500] Loss: 1.6900 Time 126.44s\n",
      "Epoch [6/10], Iter [200/500] Loss: 1.4844 Time 252.41s\n",
      "Epoch [6/10], Iter [300/500] Loss: 1.6842 Time 377.62s\n",
      "Epoch [6/10], Iter [400/500] Loss: 1.4447 Time 501.44s\n",
      "Epoch [6/10], Iter [500/500] Loss: 1.6438 Time 617.04s\n",
      "Epoch [7/10], Iter [100/500] Loss: 1.7303 Time 122.77s\n",
      "Epoch [7/10], Iter [200/500] Loss: 1.5171 Time 854.48s\n",
      "Epoch [7/10], Iter [300/500] Loss: 1.6170 Time 2163.43s\n",
      "Epoch [7/10], Iter [400/500] Loss: 1.5601 Time 2290.33s\n",
      "Epoch [7/10], Iter [500/500] Loss: 1.7050 Time 2476.12s\n",
      "Epoch [8/10], Iter [100/500] Loss: 1.6840 Time 120.49s\n",
      "Epoch [8/10], Iter [200/500] Loss: 1.5182 Time 240.98s\n",
      "Epoch [8/10], Iter [300/500] Loss: 1.4549 Time 362.50s\n",
      "Epoch [8/10], Iter [400/500] Loss: 1.6636 Time 478.18s\n",
      "Epoch [8/10], Iter [500/500] Loss: 1.7461 Time 593.75s\n",
      "Epoch [9/10], Iter [100/500] Loss: 1.3937 Time 115.78s\n",
      "Epoch [9/10], Iter [200/500] Loss: 1.6164 Time 235.35s\n",
      "Epoch [9/10], Iter [300/500] Loss: 1.4985 Time 352.81s\n",
      "Epoch [9/10], Iter [400/500] Loss: 1.5328 Time 468.19s\n",
      "Epoch [9/10], Iter [500/500] Loss: 1.8021 Time 585.89s\n",
      "Epoch [10/10], Iter [100/500] Loss: 1.6326 Time 126.82s\n",
      "Epoch [10/10], Iter [200/500] Loss: 1.7514 Time 243.99s\n",
      "Epoch [10/10], Iter [300/500] Loss: 1.6902 Time 361.44s\n",
      "Epoch [10/10], Iter [400/500] Loss: 1.4323 Time 600.44s\n",
      "Epoch [10/10], Iter [500/500] Loss: 1.5093 Time 737.64s\n"
     ]
    }
   ],
   "source": [
    "# Train the Student Model\n",
    "loss_conv = []\n",
    "for epoch in range(num_epochs):\n",
    "    t0 = time()\n",
    "    for i, (images, lables) in enumerate(train_loader):\n",
    "        # Generate synthetic data from the ResNet\n",
    "        # images = torch.randn(100, 3, 32, 32)\n",
    "        resnet_predicted = resnet(Variable(images))\n",
    "        _, resnet_labels = torch.max(resnet_predicted.data, 1)\n",
    "        \n",
    "        # Convert torch tensor to Variable\n",
    "        images = Variable(images.view(-1, 32*32*3))\n",
    "        resnet_labels = Variable(resnet_labels[:,0])\n",
    "        \n",
    "        # Forward + Backward + Optimize\n",
    "        optimizer.zero_grad()  # zero the gradient buffer\n",
    "        outputs = net(images)\n",
    "        loss = criterion(outputs, resnet_labels)\n",
    "        loss.backward()\n",
    "        optimizer.step()\n",
    "        \n",
    "        if (i+1) % 100 == 0:\n",
    "            loss_conv.append(loss.data[0])\n",
    "            print (\"Epoch [%d/%d], Iter [%d/%d] Loss: %.4f Time %.2fs\" \\\n",
    "                   %(epoch+1, num_epochs, i+1, 500, loss.data[0], time()-t0))"
   ]
  },
  {
   "cell_type": "code",
   "execution_count": 105,
   "metadata": {
    "collapsed": false
   },
   "outputs": [
    {
     "data": {
      "image/png": "[encoded data removed]",
      "text/plain": [
       "<matplotlib.figure.Figure at 0x11d4c9590>"
      ]
     },
     "metadata": {},
     "output_type": "display_data"
    }
   ],
   "source": [
    "# Convergence\n",
    "plt.plot(loss_conv)\n",
    "plt.xlabel('Batch')\n",
    "plt.ylabel('Loss')\n",
    "plt.show()"
   ]
  },
  {
   "cell_type": "code",
   "execution_count": 106,
   "metadata": {
    "collapsed": false
   },
   "outputs": [
    {
     "name": "stdout",
     "output_type": "stream",
     "text": [
      "Accuracy of the model on the test images: 44.950000 %\n"
     ]
    }
   ],
   "source": [
    "# Shallow NN Test\n",
    "correct = 0\n",
    "total = 0\n",
    "for images, labels in test_loader:\n",
    "    images = Variable(images.view(-1, 32*32*3))\n",
    "    # images = Variable(images.cuda())\n",
    "    outputs = net(images)\n",
    "    _, predicted = torch.max(outputs.data, 1)\n",
    "    total += labels.size(0)\n",
    "    correct += (predicted == labels).sum()\n",
    "\n",
    "print('Accuracy of the model on the test images: %F %%' % (100. * correct / total))"
   ]
  },
  {
   "cell_type": "markdown",
   "metadata": {
    "collapsed": true
   },
   "source": [
    "Experimental Results\n",
    "- 1 layer, 512 units, test error 44.94%\n",
    "- 1 layer, 1024 units, test error 44.50%\n",
    "- 1 layer, 2048 units, test error 45.13%\n",
    "- 1 layer, 4096 units, test error 44.95%"
   ]
  },
  {
   "cell_type": "markdown",
   "metadata": {},
   "source": [
    "### Random Forests"
   ]
  },
  {
   "cell_type": "code",
   "execution_count": 6,
   "metadata": {
    "collapsed": true
   },
   "outputs": [],
   "source": [
    "import numpy as np\n",
    "import pandas as pd\n",
    "from sklearn.ensemble import RandomForestRegressor\n",
    "from sklearn.utils import shuffle"
   ]
  },
  {
   "cell_type": "code",
   "execution_count": 7,
   "metadata": {
    "collapsed": false,
    "scrolled": true
   },
   "outputs": [
    {
     "name": "stdout",
     "output_type": "stream",
     "text": [
      "[100/500]\n",
      "[200/500]\n",
      "[300/500]\n",
      "[400/500]\n",
      "[500/500]\n",
      "42668\n"
     ]
    }
   ],
   "source": [
    "correct = 0\n",
    "for i, (images, labels) in enumerate(train_loader):\n",
    "    \n",
    "    if (i+1)%100 == 0:\n",
    "        print \"[%d/500]\" % (i+1)\n",
    "        \n",
    "    tmp_X = images.view(-1, 32*32*3).numpy()\n",
    "    tmp_labels = labels.numpy()\n",
    "    outputs = resnet(Variable(images))\n",
    "    tmp_y_pred = outputs.data.numpy()\n",
    "    if i == 0:\n",
    "        X = tmp_X\n",
    "        true_labels = tmp_labels\n",
    "        y_pred = tmp_y_pred\n",
    "    else:\n",
    "        X = np.concatenate((X, tmp_X))\n",
    "        true_labels = np.concatenate((true_labels, tmp_labels))\n",
    "        y_pred = np.concatenate((y_pred, tmp_y_pred))\n",
    "    predicted = outputs.data.max(1)[1].numpy()\n",
    "    correct += (predicted[:,0]==tmp_labels).sum()\n",
    "print correct"
   ]
  },
  {
   "cell_type": "code",
   "execution_count": 33,
   "metadata": {
    "collapsed": false
   },
   "outputs": [],
   "source": [
    "X, y, labels = shuffle(X, y_pred, true_labels)\n",
    "train_split = 48000\n",
    "X_train = X[:train_split, :]\n",
    "y_train = y[:train_split]\n",
    "labels_train = labels[:train_split]\n",
    "X_dev = X[train_split:, :]\n",
    "y_dev = y[train_split:]\n",
    "labels_dev = labels[train_split:]"
   ]
  },
  {
   "cell_type": "code",
   "execution_count": 37,
   "metadata": {
    "collapsed": false
   },
   "outputs": [
    {
     "name": "stdout",
     "output_type": "stream",
     "text": [
      "968.64s eclipsed.\n"
     ]
    }
   ],
   "source": [
    "t0 = time()\n",
    "rf = RandomForestRegressor(n_estimators=32, max_depth=6, n_jobs=-1)\n",
    "rf.fit(X_train, y_train)\n",
    "print \"%.2fs eclipsed.\" % (time()-t0)"
   ]
  },
  {
   "cell_type": "code",
   "execution_count": 38,
   "metadata": {
    "collapsed": false
   },
   "outputs": [
    {
     "name": "stdout",
     "output_type": "stream",
     "text": [
      "Accuracy of the model on the true image labels: 0.432000 %\n"
     ]
    }
   ],
   "source": [
    "y_dev_pred = rf.predict(X_dev)\n",
    "#predicted = y_dev_pred.max(1)[1]\n",
    "predicted = np.argmax(y_dev_pred,axis=1)\n",
    "total = len(true_labels)\n",
    "correct = (predicted == labels_dev).sum()\n",
    "print('Accuracy of the model on the true image labels: %F %%' % (100. * correct / total))"
   ]
  },
  {
   "cell_type": "code",
   "execution_count": 39,
   "metadata": {
    "collapsed": false
   },
   "outputs": [
    {
     "data": {
      "text/plain": [
       "216"
      ]
     },
     "execution_count": 39,
     "metadata": {},
     "output_type": "execute_result"
    }
   ],
   "source": [
    "correct"
   ]
  },
  {
   "cell_type": "code",
   "execution_count": 30,
   "metadata": {
    "collapsed": false
   },
   "outputs": [
    {
     "data": {
      "text/plain": [
       "array([0, 0, 9, ..., 1, 3, 3])"
      ]
     },
     "execution_count": 30,
     "metadata": {},
     "output_type": "execute_result"
    }
   ],
   "source": [
    "predicted"
   ]
  },
  {
   "cell_type": "code",
   "execution_count": 31,
   "metadata": {
    "collapsed": false
   },
   "outputs": [
    {
     "data": {
      "text/plain": [
       "array([7, 1, 4, ..., 7, 4, 0])"
      ]
     },
     "execution_count": 31,
     "metadata": {},
     "output_type": "execute_result"
    }
   ],
   "source": [
    "labels_dev"
   ]
  },
  {
   "cell_type": "code",
   "execution_count": 35,
   "metadata": {
    "collapsed": false
   },
   "outputs": [
    {
     "data": {
      "text/plain": [
       "array([ -8.94895896,  -9.66488017,  -5.91178958,  -5.29221831,\n",
       "        -6.10980399,  -5.81065313,  -6.9362847 ,  -6.52398064,\n",
       "       -10.51744832,  -9.74643188])"
      ]
     },
     "execution_count": 35,
     "metadata": {},
     "output_type": "execute_result"
    }
   ],
   "source": [
    "y_dev_pred[0,:]"
   ]
  },
  {
   "cell_type": "code",
   "execution_count": 36,
   "metadata": {
    "collapsed": false
   },
   "outputs": [
    {
     "data": {
      "text/plain": [
       "array([[ -1.10215139e+01,  -9.57099533e+00,  -3.65137148e+00, ...,\n",
       "         -2.26891443e-01,  -1.27886591e+01,  -1.00589933e+01],\n",
       "       [ -1.31883211e+01,  -1.32492514e+01,  -5.06971025e+00, ...,\n",
       "         -8.67364502e+00,  -1.15326748e+01,  -1.25342827e+01],\n",
       "       [ -1.33823738e+01,  -1.24660358e+01,  -8.07931995e+00, ...,\n",
       "         -9.37925911e+00,  -1.50486937e+01,  -1.26157255e+01],\n",
       "       ..., \n",
       "       [ -1.00781765e+01,  -2.97814654e-03,  -1.66591225e+01, ...,\n",
       "         -1.36628857e+01,  -1.41333971e+01,  -5.83421087e+00],\n",
       "       [ -9.54847813e+00,  -1.09853888e+01,  -7.69597435e+00, ...,\n",
       "         -1.86104067e-02,  -1.29311247e+01,  -1.37870207e+01],\n",
       "       [ -8.61116409e+00,  -1.36706877e+01,  -6.02826738e+00, ...,\n",
       "         -8.36918449e+00,  -1.10742636e+01,  -6.53501654e+00]], dtype=float32)"
      ]
     },
     "execution_count": 36,
     "metadata": {},
     "output_type": "execute_result"
    }
   ],
   "source": [
    "y_dev"
   ]
  },
  {
   "cell_type": "code",
   "execution_count": 22,
   "metadata": {
    "collapsed": false
   },
   "outputs": [
    {
     "data": {
      "text/plain": [
       "array([0, 0, 9, ..., 1, 3, 3])"
      ]
     },
     "execution_count": 22,
     "metadata": {},
     "output_type": "execute_result"
    }
   ],
   "source": [
    "np.argmax(y_dev_pred,axis=1)"
   ]
  },
  {
   "cell_type": "code",
   "execution_count": 20,
   "metadata": {
    "collapsed": false
   },
   "outputs": [
    {
     "data": {
      "text/plain": [
       "array([6, 0, 6, ..., 7, 0, 7])"
      ]
     },
     "execution_count": 20,
     "metadata": {},
     "output_type": "execute_result"
    }
   ],
   "source": [
    "true_labels"
   ]
  },
  {
   "cell_type": "markdown",
   "metadata": {},
   "source": [
    "Using RandomForestClassifier\n",
    "- 128 estimaters, max depth 3, resnet 27.14%, true 26.52%\n",
    "- 128 estimaters, max depth 4, resnet 28.96%, true 28.18%\n",
    "- 128 estimaters, max depth 8, resnet 35.40%, true 34.16%\n",
    "- 128 estimaters, max depth 16, resnet 41.62%, true 40.66% (1024 estimators, resnet 42.56%, true 41.60%)\n",
    "- 128 estimaters, max depth 24, resnet 41.56%, true 40.86% (512 estimators, resnet 43.78%, true 42.82%)\n",
    "- 128 estimaters, max depth 32, resnet 41.84%, true 41.08%\n",
    "- 128 estimaters, max depth 48, resnet 42.70%, true 41.60% (train with true labels, resnet 42.32%, true 41.64%)"
   ]
  },
  {
   "cell_type": "code",
   "execution_count": null,
   "metadata": {
    "collapsed": true
   },
   "outputs": [],
   "source": []
  },
  {
   "cell_type": "code",
   "execution_count": null,
   "metadata": {
    "collapsed": true
   },
   "outputs": [],
   "source": []
  }
 ],
 "metadata": {
  "anaconda-cloud": {},
  "kernelspec": {
   "display_name": "Python [default]",
   "language": "python",
   "name": "python2"
  },
  "language_info": {
   "codemirror_mode": {
    "name": "ipython",
    "version": 2
   },
   "file_extension": ".py",
   "mimetype": "text/x-python",
   "name": "python",
   "nbconvert_exporter": "python",
   "pygments_lexer": "ipython2",
   "version": "2.7.12"
  }
 },
 "nbformat": 4,
 "nbformat_minor": 1
}
