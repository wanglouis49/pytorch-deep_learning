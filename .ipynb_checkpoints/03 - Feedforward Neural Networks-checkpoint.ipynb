{
 "cells": [
  {
   "cell_type": "code",
   "execution_count": 1,
   "metadata": {
    "collapsed": true
   },
   "outputs": [],
   "source": [
    "import torch\n",
    "import torch.nn as nn\n",
    "import torchvision.datasets as dsets\n",
    "import torchvision.transforms as transforms\n",
    "from torch.autograd import Variable\n",
    "import matplotlib.pyplot as plt"
   ]
  },
  {
   "cell_type": "code",
   "execution_count": 2,
   "metadata": {
    "collapsed": true
   },
   "outputs": [],
   "source": [
    "# Hyper Parameters \n",
    "input_size = 784\n",
    "hidden_size = 500\n",
    "num_classes = 10\n",
    "num_epochs = 50\n",
    "batch_size = 100\n",
    "learning_rate = 0.001"
   ]
  },
  {
   "cell_type": "code",
   "execution_count": 3,
   "metadata": {
    "collapsed": false
   },
   "outputs": [],
   "source": [
    "# MNIST Dataset \n",
    "train_dataset = dsets.MNIST(root='../data', \n",
    "                            train=True, \n",
    "                            transform=transforms.ToTensor(),  \n",
    "                            download=True)\n",
    "\n",
    "test_dataset = dsets.MNIST(root='../data', \n",
    "                           train=False, \n",
    "                           transform=transforms.ToTensor())\n",
    "\n",
    "# Data Loader (Input Pipeline)\n",
    "train_loader = torch.utils.data.DataLoader(dataset=train_dataset, \n",
    "                                           batch_size=batch_size, \n",
    "                                           shuffle=True)\n",
    "\n",
    "test_loader = torch.utils.data.DataLoader(dataset=test_dataset, \n",
    "                                          batch_size=batch_size, \n",
    "                                          shuffle=False)"
   ]
  },
  {
   "cell_type": "code",
   "execution_count": 4,
   "metadata": {
    "collapsed": false
   },
   "outputs": [],
   "source": [
    "# Neural Network Model (1 hidden layer)\n",
    "class Net(nn.Module):\n",
    "    def __init__(self, input_size, hidden_size, num_classes):\n",
    "        super(Net, self).__init__()\n",
    "        self.fc1 = nn.Linear(input_size, hidden_size) \n",
    "        self.relu = nn.ReLU()\n",
    "        self.fc2 = nn.Linear(hidden_size, num_classes)\n",
    "    \n",
    "    def forward(self, x):\n",
    "        out = self.fc1(x)\n",
    "        out = self.relu(out)\n",
    "        out = self.fc2(out)\n",
    "        return out\n",
    "    \n",
    "net = Net(input_size, hidden_size, num_classes)"
   ]
  },
  {
   "cell_type": "code",
   "execution_count": 5,
   "metadata": {
    "collapsed": true
   },
   "outputs": [],
   "source": [
    "# Loss and Optimizer\n",
    "criterion = nn.CrossEntropyLoss()  \n",
    "optimizer = torch.optim.Adam(net.parameters(), lr=learning_rate) "
   ]
  },
  {
   "cell_type": "code",
   "execution_count": 6,
   "metadata": {
    "collapsed": false
   },
   "outputs": [
    {
     "name": "stdout",
     "output_type": "stream",
     "text": [
      "Epoch [1/50], Step [100/600], Loss: 0.9657\n",
      "Epoch [1/50], Step [200/600], Loss: 0.4663\n",
      "Epoch [1/50], Step [300/600], Loss: 0.4275\n",
      "Epoch [1/50], Step [400/600], Loss: 0.2149\n",
      "Epoch [1/50], Step [500/600], Loss: 0.4227\n",
      "Epoch [1/50], Step [600/600], Loss: 0.3129\n",
      "Epoch [2/50], Step [100/600], Loss: 0.1860\n",
      "Epoch [2/50], Step [200/600], Loss: 0.2132\n",
      "Epoch [2/50], Step [300/600], Loss: 0.1555\n",
      "Epoch [2/50], Step [400/600], Loss: 0.0905\n",
      "Epoch [2/50], Step [500/600], Loss: 0.1563\n",
      "Epoch [2/50], Step [600/600], Loss: 0.1423\n",
      "Epoch [3/50], Step [100/600], Loss: 0.0603\n",
      "Epoch [3/50], Step [200/600], Loss: 0.0442\n",
      "Epoch [3/50], Step [300/600], Loss: 0.1052\n",
      "Epoch [3/50], Step [400/600], Loss: 0.1606\n",
      "Epoch [3/50], Step [500/600], Loss: 0.1040\n",
      "Epoch [3/50], Step [600/600], Loss: 0.1241\n",
      "Epoch [4/50], Step [100/600], Loss: 0.1967\n",
      "Epoch [4/50], Step [200/600], Loss: 0.1183\n",
      "Epoch [4/50], Step [300/600], Loss: 0.0588\n",
      "Epoch [4/50], Step [400/600], Loss: 0.0689\n",
      "Epoch [4/50], Step [500/600], Loss: 0.1003\n",
      "Epoch [4/50], Step [600/600], Loss: 0.0515\n",
      "Epoch [5/50], Step [100/600], Loss: 0.1453\n",
      "Epoch [5/50], Step [200/600], Loss: 0.2283\n",
      "Epoch [5/50], Step [300/600], Loss: 0.1472\n",
      "Epoch [5/50], Step [400/600], Loss: 0.0544\n",
      "Epoch [5/50], Step [500/600], Loss: 0.0879\n",
      "Epoch [5/50], Step [600/600], Loss: 0.0306\n",
      "Epoch [6/50], Step [100/600], Loss: 0.1011\n",
      "Epoch [6/50], Step [200/600], Loss: 0.1341\n",
      "Epoch [6/50], Step [300/600], Loss: 0.2505\n",
      "Epoch [6/50], Step [400/600], Loss: 0.0045\n",
      "Epoch [6/50], Step [500/600], Loss: 0.0943\n",
      "Epoch [6/50], Step [600/600], Loss: 0.0929\n",
      "Epoch [7/50], Step [100/600], Loss: 0.1308\n",
      "Epoch [7/50], Step [200/600], Loss: 0.1008\n",
      "Epoch [7/50], Step [300/600], Loss: 0.0816\n",
      "Epoch [7/50], Step [400/600], Loss: 0.0015\n",
      "Epoch [7/50], Step [500/600], Loss: 0.0544\n",
      "Epoch [7/50], Step [600/600], Loss: 0.0485\n",
      "Epoch [8/50], Step [100/600], Loss: 0.0348\n",
      "Epoch [8/50], Step [200/600], Loss: 0.0940\n",
      "Epoch [8/50], Step [300/600], Loss: 0.1561\n",
      "Epoch [8/50], Step [400/600], Loss: 0.0454\n",
      "Epoch [8/50], Step [500/600], Loss: 0.0367\n",
      "Epoch [8/50], Step [600/600], Loss: 0.0434\n",
      "Epoch [9/50], Step [100/600], Loss: 0.0559\n",
      "Epoch [9/50], Step [200/600], Loss: 0.0179\n",
      "Epoch [9/50], Step [300/600], Loss: 0.0723\n",
      "Epoch [9/50], Step [400/600], Loss: 0.0071\n",
      "Epoch [9/50], Step [500/600], Loss: 0.0481\n",
      "Epoch [9/50], Step [600/600], Loss: 0.0923\n",
      "Epoch [10/50], Step [100/600], Loss: 0.0645\n",
      "Epoch [10/50], Step [200/600], Loss: 0.0027\n",
      "Epoch [10/50], Step [300/600], Loss: 0.0906\n",
      "Epoch [10/50], Step [400/600], Loss: 0.0407\n",
      "Epoch [10/50], Step [500/600], Loss: 0.0005\n",
      "Epoch [10/50], Step [600/600], Loss: 0.0466\n",
      "Epoch [11/50], Step [100/600], Loss: 0.0776\n",
      "Epoch [11/50], Step [200/600], Loss: 0.1053\n",
      "Epoch [11/50], Step [300/600], Loss: 0.0182\n",
      "Epoch [11/50], Step [400/600], Loss: 0.0525\n",
      "Epoch [11/50], Step [500/600], Loss: 0.0152\n",
      "Epoch [11/50], Step [600/600], Loss: 0.0069\n",
      "Epoch [12/50], Step [100/600], Loss: 0.0276\n",
      "Epoch [12/50], Step [200/600], Loss: 0.0927\n",
      "Epoch [12/50], Step [300/600], Loss: 0.0231\n",
      "Epoch [12/50], Step [400/600], Loss: 0.0175\n",
      "Epoch [12/50], Step [500/600], Loss: 0.0054\n",
      "Epoch [12/50], Step [600/600], Loss: 0.0073\n",
      "Epoch [13/50], Step [100/600], Loss: 0.0107\n",
      "Epoch [13/50], Step [200/600], Loss: 0.0533\n",
      "Epoch [13/50], Step [300/600], Loss: 0.0124\n",
      "Epoch [13/50], Step [400/600], Loss: 0.0651\n",
      "Epoch [13/50], Step [500/600], Loss: 0.0209\n",
      "Epoch [13/50], Step [600/600], Loss: 0.0251\n",
      "Epoch [14/50], Step [100/600], Loss: 0.0912\n",
      "Epoch [14/50], Step [200/600], Loss: 0.0258\n",
      "Epoch [14/50], Step [300/600], Loss: 0.0711\n",
      "Epoch [14/50], Step [400/600], Loss: 0.0286\n",
      "Epoch [14/50], Step [500/600], Loss: 0.0001\n",
      "Epoch [14/50], Step [600/600], Loss: 0.0072\n",
      "Epoch [15/50], Step [100/600], Loss: 0.0016\n",
      "Epoch [15/50], Step [200/600], Loss: 0.0303\n",
      "Epoch [15/50], Step [300/600], Loss: 0.0007\n",
      "Epoch [15/50], Step [400/600], Loss: 0.0005\n",
      "Epoch [15/50], Step [500/600], Loss: 0.0443\n",
      "Epoch [15/50], Step [600/600], Loss: 0.0168\n",
      "Epoch [16/50], Step [100/600], Loss: 0.0448\n",
      "Epoch [16/50], Step [200/600], Loss: 0.0148\n",
      "Epoch [16/50], Step [300/600], Loss: 0.0255\n",
      "Epoch [16/50], Step [400/600], Loss: 0.1100\n",
      "Epoch [16/50], Step [500/600], Loss: 0.0005\n",
      "Epoch [16/50], Step [600/600], Loss: 0.0370\n",
      "Epoch [17/50], Step [100/600], Loss: 0.0050\n",
      "Epoch [17/50], Step [200/600], Loss: 0.0068\n",
      "Epoch [17/50], Step [300/600], Loss: 0.0027\n",
      "Epoch [17/50], Step [400/600], Loss: 0.0939\n",
      "Epoch [17/50], Step [500/600], Loss: 0.0014\n",
      "Epoch [17/50], Step [600/600], Loss: 0.0007\n",
      "Epoch [18/50], Step [100/600], Loss: 0.0036\n",
      "Epoch [18/50], Step [200/600], Loss: 0.0051\n",
      "Epoch [18/50], Step [300/600], Loss: 0.0000\n",
      "Epoch [18/50], Step [400/600], Loss: 0.0242\n",
      "Epoch [18/50], Step [500/600], Loss: 0.0913\n",
      "Epoch [18/50], Step [600/600], Loss: 0.0211\n",
      "Epoch [19/50], Step [100/600], Loss: 0.0229\n",
      "Epoch [19/50], Step [200/600], Loss: 0.0213\n",
      "Epoch [19/50], Step [300/600], Loss: 0.0116\n",
      "Epoch [19/50], Step [400/600], Loss: 0.0023\n",
      "Epoch [19/50], Step [500/600], Loss: 0.0508\n",
      "Epoch [19/50], Step [600/600], Loss: 0.0114\n",
      "Epoch [20/50], Step [100/600], Loss: 0.0026\n",
      "Epoch [20/50], Step [200/600], Loss: 0.0024\n",
      "Epoch [20/50], Step [300/600], Loss: 0.0019\n",
      "Epoch [20/50], Step [400/600], Loss: 0.0093\n",
      "Epoch [20/50], Step [500/600], Loss: 0.0294\n",
      "Epoch [20/50], Step [600/600], Loss: 0.0408\n",
      "Epoch [21/50], Step [100/600], Loss: 0.0028\n",
      "Epoch [21/50], Step [200/600], Loss: 0.0011\n",
      "Epoch [21/50], Step [300/600], Loss: 0.0053\n",
      "Epoch [21/50], Step [400/600], Loss: 0.0210\n",
      "Epoch [21/50], Step [500/600], Loss: 0.0124\n",
      "Epoch [21/50], Step [600/600], Loss: 0.0016\n",
      "Epoch [22/50], Step [100/600], Loss: 0.0445\n",
      "Epoch [22/50], Step [200/600], Loss: 0.0475\n",
      "Epoch [22/50], Step [300/600], Loss: 0.0090\n",
      "Epoch [22/50], Step [400/600], Loss: 0.0236\n",
      "Epoch [22/50], Step [500/600], Loss: 0.0168\n",
      "Epoch [22/50], Step [600/600], Loss: 0.0193\n",
      "Epoch [23/50], Step [100/600], Loss: 0.0001\n",
      "Epoch [23/50], Step [200/600], Loss: 0.0483\n",
      "Epoch [23/50], Step [300/600], Loss: 0.0098\n",
      "Epoch [23/50], Step [400/600], Loss: 0.0180\n",
      "Epoch [23/50], Step [500/600], Loss: 0.0226\n",
      "Epoch [23/50], Step [600/600], Loss: 0.0254\n",
      "Epoch [24/50], Step [100/600], Loss: 0.0034\n",
      "Epoch [24/50], Step [200/600], Loss: 0.2494\n",
      "Epoch [24/50], Step [300/600], Loss: 0.0699\n",
      "Epoch [24/50], Step [400/600], Loss: 0.0705\n",
      "Epoch [24/50], Step [500/600], Loss: 0.1875\n",
      "Epoch [24/50], Step [600/600], Loss: 0.0453\n",
      "Epoch [25/50], Step [100/600], Loss: 0.0062\n",
      "Epoch [25/50], Step [200/600], Loss: 0.0015\n",
      "Epoch [25/50], Step [300/600], Loss: 0.0010\n",
      "Epoch [25/50], Step [400/600], Loss: 0.0239\n",
      "Epoch [25/50], Step [500/600], Loss: 0.0020\n",
      "Epoch [25/50], Step [600/600], Loss: 0.0159\n",
      "Epoch [26/50], Step [100/600], Loss: 0.0012\n",
      "Epoch [26/50], Step [200/600], Loss: 0.0107\n",
      "Epoch [26/50], Step [300/600], Loss: 0.0065\n",
      "Epoch [26/50], Step [400/600], Loss: 0.0006\n",
      "Epoch [26/50], Step [500/600], Loss: 0.0553\n",
      "Epoch [26/50], Step [600/600], Loss: 0.0013\n",
      "Epoch [27/50], Step [100/600], Loss: 0.0015\n",
      "Epoch [27/50], Step [200/600], Loss: 0.0014\n",
      "Epoch [27/50], Step [300/600], Loss: 0.0319\n",
      "Epoch [27/50], Step [400/600], Loss: 0.0004\n",
      "Epoch [27/50], Step [500/600], Loss: 0.0594\n",
      "Epoch [27/50], Step [600/600], Loss: 0.0183\n",
      "Epoch [28/50], Step [100/600], Loss: 0.0482\n",
      "Epoch [28/50], Step [200/600], Loss: 0.0394\n",
      "Epoch [28/50], Step [300/600], Loss: 0.0008\n",
      "Epoch [28/50], Step [400/600], Loss: 0.0009\n",
      "Epoch [28/50], Step [500/600], Loss: 0.1537\n",
      "Epoch [28/50], Step [600/600], Loss: 0.0271\n",
      "Epoch [29/50], Step [100/600], Loss: 0.1217\n",
      "Epoch [29/50], Step [200/600], Loss: 0.0008\n",
      "Epoch [29/50], Step [300/600], Loss: 0.0009\n",
      "Epoch [29/50], Step [400/600], Loss: 0.0002\n",
      "Epoch [29/50], Step [500/600], Loss: 0.0023\n",
      "Epoch [29/50], Step [600/600], Loss: 0.0078\n",
      "Epoch [30/50], Step [100/600], Loss: 0.0085\n",
      "Epoch [30/50], Step [200/600], Loss: 0.0000\n",
      "Epoch [30/50], Step [300/600], Loss: 0.0119\n",
      "Epoch [30/50], Step [400/600], Loss: 0.0001\n",
      "Epoch [30/50], Step [500/600], Loss: 0.0425\n",
      "Epoch [30/50], Step [600/600], Loss: 0.0156\n",
      "Epoch [31/50], Step [100/600], Loss: 0.0889\n",
      "Epoch [31/50], Step [200/600], Loss: 0.0013\n",
      "Epoch [31/50], Step [300/600], Loss: 0.0006\n",
      "Epoch [31/50], Step [400/600], Loss: 0.0314\n",
      "Epoch [31/50], Step [500/600], Loss: 0.0045\n",
      "Epoch [31/50], Step [600/600], Loss: 0.0010\n",
      "Epoch [32/50], Step [100/600], Loss: 0.0036\n",
      "Epoch [32/50], Step [200/600], Loss: 0.0006\n",
      "Epoch [32/50], Step [300/600], Loss: 0.1945\n",
      "Epoch [32/50], Step [400/600], Loss: 0.0767\n",
      "Epoch [32/50], Step [500/600], Loss: 0.0366\n",
      "Epoch [32/50], Step [600/600], Loss: 0.0002\n",
      "Epoch [33/50], Step [100/600], Loss: 0.0017\n",
      "Epoch [33/50], Step [200/600], Loss: 0.0002\n",
      "Epoch [33/50], Step [300/600], Loss: 0.0083\n",
      "Epoch [33/50], Step [400/600], Loss: 0.0004\n",
      "Epoch [33/50], Step [500/600], Loss: 0.0010\n",
      "Epoch [33/50], Step [600/600], Loss: 0.0022\n",
      "Epoch [34/50], Step [100/600], Loss: 0.0539\n",
      "Epoch [34/50], Step [200/600], Loss: 0.0000\n",
      "Epoch [34/50], Step [300/600], Loss: 0.0031\n",
      "Epoch [34/50], Step [400/600], Loss: 0.0001\n",
      "Epoch [34/50], Step [500/600], Loss: 0.0009\n",
      "Epoch [34/50], Step [600/600], Loss: 0.1026\n",
      "Epoch [35/50], Step [100/600], Loss: 0.0061\n",
      "Epoch [35/50], Step [200/600], Loss: 0.0076\n",
      "Epoch [35/50], Step [300/600], Loss: 0.0016\n",
      "Epoch [35/50], Step [400/600], Loss: 0.0018\n",
      "Epoch [35/50], Step [500/600], Loss: 0.0128\n",
      "Epoch [35/50], Step [600/600], Loss: 0.0008\n",
      "Epoch [36/50], Step [100/600], Loss: 0.0051\n",
      "Epoch [36/50], Step [200/600], Loss: 0.0004\n",
      "Epoch [36/50], Step [300/600], Loss: 0.0042\n",
      "Epoch [36/50], Step [400/600], Loss: 0.0078\n",
      "Epoch [36/50], Step [500/600], Loss: 0.0007\n",
      "Epoch [36/50], Step [600/600], Loss: 0.0468\n",
      "Epoch [37/50], Step [100/600], Loss: 0.0825\n",
      "Epoch [37/50], Step [200/600], Loss: 0.0001\n",
      "Epoch [37/50], Step [300/600], Loss: 0.0160\n",
      "Epoch [37/50], Step [400/600], Loss: 0.0022\n",
      "Epoch [37/50], Step [500/600], Loss: 0.0653\n",
      "Epoch [37/50], Step [600/600], Loss: 0.0059\n",
      "Epoch [38/50], Step [100/600], Loss: 0.0078\n",
      "Epoch [38/50], Step [200/600], Loss: 0.0024\n",
      "Epoch [38/50], Step [300/600], Loss: 0.0004\n",
      "Epoch [38/50], Step [400/600], Loss: 0.0806\n",
      "Epoch [38/50], Step [500/600], Loss: 0.0040\n",
      "Epoch [38/50], Step [600/600], Loss: 0.0273\n",
      "Epoch [39/50], Step [100/600], Loss: 0.0003\n",
      "Epoch [39/50], Step [200/600], Loss: 0.0001\n",
      "Epoch [39/50], Step [300/600], Loss: 0.0003\n",
      "Epoch [39/50], Step [400/600], Loss: 0.0101\n",
      "Epoch [39/50], Step [500/600], Loss: 0.0001\n",
      "Epoch [39/50], Step [600/600], Loss: 0.0006\n",
      "Epoch [40/50], Step [100/600], Loss: 0.0010\n",
      "Epoch [40/50], Step [200/600], Loss: 0.0375\n",
      "Epoch [40/50], Step [300/600], Loss: 0.0049\n",
      "Epoch [40/50], Step [400/600], Loss: 0.0004\n",
      "Epoch [40/50], Step [500/600], Loss: 0.0004\n",
      "Epoch [40/50], Step [600/600], Loss: 0.0135\n",
      "Epoch [41/50], Step [100/600], Loss: 0.0074\n",
      "Epoch [41/50], Step [200/600], Loss: 0.0642\n",
      "Epoch [41/50], Step [300/600], Loss: 0.0028\n",
      "Epoch [41/50], Step [400/600], Loss: 0.0009\n",
      "Epoch [41/50], Step [500/600], Loss: 0.0001\n",
      "Epoch [41/50], Step [600/600], Loss: 0.0005\n",
      "Epoch [42/50], Step [100/600], Loss: 0.0005\n",
      "Epoch [42/50], Step [200/600], Loss: 0.0022\n",
      "Epoch [42/50], Step [300/600], Loss: 0.0002\n",
      "Epoch [42/50], Step [400/600], Loss: 0.0067\n",
      "Epoch [42/50], Step [500/600], Loss: 0.0951\n",
      "Epoch [42/50], Step [600/600], Loss: 0.0075\n",
      "Epoch [43/50], Step [100/600], Loss: 0.0000\n",
      "Epoch [43/50], Step [200/600], Loss: 0.0002\n",
      "Epoch [43/50], Step [300/600], Loss: 0.0010\n",
      "Epoch [43/50], Step [400/600], Loss: 0.0128\n",
      "Epoch [43/50], Step [500/600], Loss: 0.0001\n",
      "Epoch [43/50], Step [600/600], Loss: 0.0151\n",
      "Epoch [44/50], Step [100/600], Loss: 0.0185\n",
      "Epoch [44/50], Step [200/600], Loss: 0.0036\n",
      "Epoch [44/50], Step [300/600], Loss: 0.0003\n",
      "Epoch [44/50], Step [400/600], Loss: 0.0002\n",
      "Epoch [44/50], Step [500/600], Loss: 0.0024\n",
      "Epoch [44/50], Step [600/600], Loss: 0.0003\n",
      "Epoch [45/50], Step [100/600], Loss: 0.0013\n",
      "Epoch [45/50], Step [200/600], Loss: 0.0005\n",
      "Epoch [45/50], Step [300/600], Loss: 0.0001\n",
      "Epoch [45/50], Step [400/600], Loss: 0.0005\n",
      "Epoch [45/50], Step [500/600], Loss: 0.0000\n",
      "Epoch [45/50], Step [600/600], Loss: 0.0006\n",
      "Epoch [46/50], Step [100/600], Loss: 0.0023\n",
      "Epoch [46/50], Step [200/600], Loss: 0.0041\n",
      "Epoch [46/50], Step [300/600], Loss: 0.0003\n",
      "Epoch [46/50], Step [400/600], Loss: 0.0070\n",
      "Epoch [46/50], Step [500/600], Loss: 0.0308\n",
      "Epoch [46/50], Step [600/600], Loss: 0.0000\n",
      "Epoch [47/50], Step [100/600], Loss: 0.0005\n",
      "Epoch [47/50], Step [200/600], Loss: 0.0961\n",
      "Epoch [47/50], Step [300/600], Loss: 0.0011\n",
      "Epoch [47/50], Step [400/600], Loss: 0.0003\n",
      "Epoch [47/50], Step [500/600], Loss: 0.0082\n",
      "Epoch [47/50], Step [600/600], Loss: 0.0002\n",
      "Epoch [48/50], Step [100/600], Loss: 0.0391\n",
      "Epoch [48/50], Step [200/600], Loss: 0.0007\n",
      "Epoch [48/50], Step [300/600], Loss: 0.0048\n",
      "Epoch [48/50], Step [400/600], Loss: 0.0043\n",
      "Epoch [48/50], Step [500/600], Loss: 0.0001\n",
      "Epoch [48/50], Step [600/600], Loss: 0.0087\n",
      "Epoch [49/50], Step [100/600], Loss: 0.0001\n",
      "Epoch [49/50], Step [200/600], Loss: 0.0057\n",
      "Epoch [49/50], Step [300/600], Loss: 0.0086\n",
      "Epoch [49/50], Step [400/600], Loss: 0.0237\n",
      "Epoch [49/50], Step [500/600], Loss: 0.0004\n",
      "Epoch [49/50], Step [600/600], Loss: 0.0005\n",
      "Epoch [50/50], Step [100/600], Loss: 0.0005\n",
      "Epoch [50/50], Step [200/600], Loss: 0.0004\n",
      "Epoch [50/50], Step [300/600], Loss: 0.0028\n",
      "Epoch [50/50], Step [400/600], Loss: 0.0005\n",
      "Epoch [50/50], Step [500/600], Loss: 0.0005\n",
      "Epoch [50/50], Step [600/600], Loss: 0.0449\n"
     ]
    }
   ],
   "source": [
    "# Train the Model\n",
    "loss_conv = []\n",
    "for epoch in range(num_epochs):\n",
    "    for i, (images, labels) in enumerate(train_loader):  \n",
    "        # Convert torch tensor to Variable\n",
    "        images = Variable(images.view(-1, 28*28))\n",
    "        labels = Variable(labels)\n",
    "        \n",
    "        # Forward + Backward + Optimize\n",
    "        optimizer.zero_grad()  # zero the gradient buffer\n",
    "        outputs = net(images)\n",
    "        loss = criterion(outputs, labels)\n",
    "        loss.backward()\n",
    "        optimizer.step()\n",
    "        \n",
    "        if (i+1) % 100 == 0:\n",
    "            loss_conv.append(loss.data[0])\n",
    "            print ('Epoch [%d/%d], Step [%d/%d], Loss: %.4f' \n",
    "                   %(epoch+1, num_epochs, i+1, len(train_dataset)//batch_size, loss.data[0]))"
   ]
  },
  {
   "cell_type": "code",
   "execution_count": 7,
   "metadata": {
    "collapsed": false
   },
   "outputs": [
    {
     "data": {
      "image/png": "[encoded data removed]",
      "text/plain": [
       "<matplotlib.figure.Figure at 0x10710a8d0>"
      ]
     },
     "metadata": {},
     "output_type": "display_data"
    }
   ],
   "source": [
    "plt.plot(loss_conv)\n",
    "plt.xlabel('Batch')\n",
    "plt.ylabel('Loss')\n",
    "plt.show()"
   ]
  },
  {
   "cell_type": "code",
   "execution_count": 8,
   "metadata": {
    "collapsed": false
   },
   "outputs": [
    {
     "name": "stdout",
     "output_type": "stream",
     "text": [
      "Accuracy of the network on the 60000 train images: 99.601667 %\n"
     ]
    }
   ],
   "source": [
    "# Train error of the Model\n",
    "correct = 0\n",
    "total = 0\n",
    "for images, labels in train_loader:\n",
    "    images = Variable(images.view(-1, 28*28))\n",
    "    outputs = net(images)\n",
    "    _, predicted = torch.max(outputs.data, 1)\n",
    "    total += labels.size(0)\n",
    "    correct += (predicted == labels).sum()\n",
    "\n",
    "print('Accuracy of the network on the 60000 train images: %f %%' % (100. * correct / total))"
   ]
  },
  {
   "cell_type": "code",
   "execution_count": 9,
   "metadata": {
    "collapsed": false
   },
   "outputs": [
    {
     "name": "stdout",
     "output_type": "stream",
     "text": [
      "Accuracy of the network on the 10000 test images: 97.870000 %\n"
     ]
    }
   ],
   "source": [
    "# Test the Model\n",
    "correct = 0\n",
    "total = 0\n",
    "for images, labels in test_loader:\n",
    "    images = Variable(images.view(-1, 28*28))\n",
    "    outputs = net(images)\n",
    "    _, predicted = torch.max(outputs.data, 1)\n",
    "    total += labels.size(0)\n",
    "    correct += (predicted == labels).sum()\n",
    "\n",
    "print('Accuracy of the network on the 10000 test images: %f %%' % (100. * correct / total))"
   ]
  },
  {
   "cell_type": "code",
   "execution_count": 10,
   "metadata": {
    "collapsed": false
   },
   "outputs": [
    {
     "name": "stdout",
     "output_type": "stream",
     "text": [
      "(500, 784)\n",
      "(500,)\n",
      "(500, 500)\n",
      "(500,)\n",
      "(500, 500)\n",
      "(500,)\n",
      "(500, 500)\n",
      "(500,)\n",
      "(500, 500)\n",
      "(500,)\n",
      "(500, 500)\n",
      "(500,)\n",
      "(500, 500)\n",
      "(500,)\n",
      "(500, 500)\n",
      "(500,)\n",
      "(500, 500)\n",
      "(500,)\n",
      "(10, 500)\n",
      "(10,)\n"
     ]
    }
   ],
   "source": [
    "parameters = []\n",
    "for param in net.parameters():\n",
    "    parameters.append(param.data.numpy())\n",
    "    print param.data.numpy().shape"
   ]
  },
  {
   "cell_type": "code",
   "execution_count": null,
   "metadata": {
    "collapsed": true
   },
   "outputs": [],
   "source": []
  },
  {
   "cell_type": "code",
   "execution_count": 11,
   "metadata": {
    "collapsed": false
   },
   "outputs": [
    {
     "data": {
      "image/png": "[encoded data removed]",
      "text/plain": [
       "<matplotlib.figure.Figure at 0x10bdcf410>"
      ]
     },
     "metadata": {},
     "output_type": "display_data"
    }
   ],
   "source": [
    "plt.hist(parameters[0].reshape(500*784), bins=100)\n",
    "plt.axis([-1., 1., 0, 40000])\n",
    "plt.show()"
   ]
  },
  {
   "cell_type": "code",
   "execution_count": 13,
   "metadata": {
    "collapsed": false
   },
   "outputs": [
    {
     "ename": "ValueError",
     "evalue": "cannot reshape array of size 5000 into shape (250000,)",
     "output_type": "error",
     "traceback": [
      "\u001b[0;31m---------------------------------------------------------------------------\u001b[0m",
      "\u001b[0;31mValueError\u001b[0m                                Traceback (most recent call last)",
      "\u001b[0;32m<ipython-input-13-f38331861005>\u001b[0m in \u001b[0;36m<module>\u001b[0;34m()\u001b[0m\n\u001b[0;32m----> 1\u001b[0;31m \u001b[0mplt\u001b[0m\u001b[0;34m.\u001b[0m\u001b[0mhist\u001b[0m\u001b[0;34m(\u001b[0m\u001b[0mparameters\u001b[0m\u001b[0;34m[\u001b[0m\u001b[0;36m18\u001b[0m\u001b[0;34m]\u001b[0m\u001b[0;34m.\u001b[0m\u001b[0mreshape\u001b[0m\u001b[0;34m(\u001b[0m\u001b[0;36m500\u001b[0m\u001b[0;34m*\u001b[0m\u001b[0;36m500\u001b[0m\u001b[0;34m)\u001b[0m\u001b[0;34m,\u001b[0m \u001b[0mbins\u001b[0m\u001b[0;34m=\u001b[0m\u001b[0;36m100\u001b[0m\u001b[0;34m)\u001b[0m\u001b[0;34m\u001b[0m\u001b[0m\n\u001b[0m\u001b[1;32m      2\u001b[0m \u001b[0mplt\u001b[0m\u001b[0;34m.\u001b[0m\u001b[0maxis\u001b[0m\u001b[0;34m(\u001b[0m\u001b[0;34m[\u001b[0m\u001b[0;34m-\u001b[0m\u001b[0;36m1.\u001b[0m\u001b[0;34m,\u001b[0m \u001b[0;36m1.\u001b[0m\u001b[0;34m,\u001b[0m \u001b[0;36m0\u001b[0m\u001b[0;34m,\u001b[0m \u001b[0;36m20000\u001b[0m\u001b[0;34m]\u001b[0m\u001b[0;34m)\u001b[0m\u001b[0;34m\u001b[0m\u001b[0m\n\u001b[1;32m      3\u001b[0m \u001b[0mplt\u001b[0m\u001b[0;34m.\u001b[0m\u001b[0mshow\u001b[0m\u001b[0;34m(\u001b[0m\u001b[0;34m)\u001b[0m\u001b[0;34m\u001b[0m\u001b[0m\n",
      "\u001b[0;31mValueError\u001b[0m: cannot reshape array of size 5000 into shape (250000,)"
     ]
    }
   ],
   "source": [
    "plt.hist(parameters[18].reshape(500*500), bins=100)\n",
    "plt.axis([-1., 1., 0, 20000])\n",
    "plt.show()"
   ]
  },
  {
   "cell_type": "code",
   "execution_count": null,
   "metadata": {
    "collapsed": true
   },
   "outputs": [],
   "source": [
    "plt.hist(parameters[12].reshape(500*500), bins=100)\n",
    "plt.axis([-1., 1., 0, 18000])\n",
    "plt.show()"
   ]
  },
  {
   "cell_type": "code",
   "execution_count": 15,
   "metadata": {
    "collapsed": false
   },
   "outputs": [
    {
     "data": {
      "image/png": "[encoded data removed]",
      "text/plain": [
       "<matplotlib.figure.Figure at 0x10ea30690>"
      ]
     },
     "metadata": {},
     "output_type": "display_data"
    }
   ],
   "source": [
    "plt.hist(parameters[18].reshape(500*10), bins=100)\n",
    "plt.axis([-1., 1., 0, 500])\n",
    "plt.show()"
   ]
  },
  {
   "cell_type": "code",
   "execution_count": null,
   "metadata": {
    "collapsed": true
   },
   "outputs": [],
   "source": [
    "# hidden_size = 100, 97.88%, 96.90%\n",
    "# hidden_size = 200, 98.73%, 97.62%\n",
    "# hidden_size = 500, 99.19%, 97.70%\n",
    "# hidden_size = 1000, 95.23%, 94.82%\n",
    "# hidden_size = 2000, 99.44%, 97.94%\n",
    "# hidden_size = 3000, 99.51%, 98.14%"
   ]
  },
  {
   "cell_type": "code",
   "execution_count": 8,
   "metadata": {
    "collapsed": true
   },
   "outputs": [],
   "source": [
    "# Save the Model\n",
    "# torch.save(net.state_dict(), 'model.pkl')"
   ]
  }
 ],
 "metadata": {
  "anaconda-cloud": {},
  "kernelspec": {
   "display_name": "Python [default]",
   "language": "python",
   "name": "python2"
  },
  "language_info": {
   "codemirror_mode": {
    "name": "ipython",
    "version": 2
   },
   "file_extension": ".py",
   "mimetype": "text/x-python",
   "name": "python",
   "nbconvert_exporter": "python",
   "pygments_lexer": "ipython2",
   "version": "2.7.12"
  }
 },
 "nbformat": 4,
 "nbformat_minor": 1
}
