{
 "cells": [
  {
   "cell_type": "code",
   "execution_count": 10,
   "metadata": {
    "collapsed": true
   },
   "outputs": [],
   "source": [
    "import torch\n",
    "import torch.nn as nn\n",
    "import torchvision.datasets as dsets\n",
    "import torchvision.transforms as transforms\n",
    "from torch.autograd import Variable\n",
    "import matplotlib.pyplot as plt\n",
    "from time import time"
   ]
  },
  {
   "cell_type": "code",
   "execution_count": 11,
   "metadata": {
    "collapsed": false
   },
   "outputs": [
    {
     "name": "stdout",
     "output_type": "stream",
     "text": [
      "Files already downloaded and verified\n"
     ]
    }
   ],
   "source": [
    "# Image Preprocessing\n",
    "transform = transforms.Compose([\n",
    "        transforms.Scale(40),\n",
    "        transforms.RandomHorizontalFlip(),\n",
    "        transforms.RandomCrop(32),\n",
    "        transforms.ToTensor()\n",
    "    ])\n",
    "\n",
    "# CIFAR-10 Dataset\n",
    "train_dataset = dsets.CIFAR10(root='../data/',\n",
    "                             train=True,\n",
    "                             transform=transform,\n",
    "                             download=True)\n",
    "\n",
    "test_dataset = dsets.CIFAR10(root='../data/',\n",
    "                             train=False,\n",
    "                            transform=transforms.ToTensor())\n",
    "\n",
    "# Data Loader (Input Pipeline)\n",
    "train_loader = torch.utils.data.DataLoader(dataset=train_dataset,\n",
    "                                          batch_size=100,\n",
    "                                          shuffle=True)\n",
    "\n",
    "test_loader = torch.utils.data.DataLoader(dataset=test_dataset,\n",
    "                                          batch_size=100,\n",
    "                                         shuffle=False)"
   ]
  },
  {
   "cell_type": "code",
   "execution_count": 4,
   "metadata": {
    "collapsed": false
   },
   "outputs": [
    {
     "data": {
      "text/plain": [
       "(50000, 32, 32, 3)"
      ]
     },
     "execution_count": 4,
     "metadata": {},
     "output_type": "execute_result"
    }
   ],
   "source": [
    "train_dataset.train_data.shape"
   ]
  },
  {
   "cell_type": "code",
   "execution_count": 5,
   "metadata": {
    "collapsed": false
   },
   "outputs": [
    {
     "data": {
      "text/plain": [
       "(10000, 32, 32, 3)"
      ]
     },
     "execution_count": 5,
     "metadata": {},
     "output_type": "execute_result"
    }
   ],
   "source": [
    "test_dataset.test_data.shape"
   ]
  },
  {
   "cell_type": "code",
   "execution_count": 3,
   "metadata": {
    "collapsed": false
   },
   "outputs": [],
   "source": [
    "# Neural Network Model (1 hidden layer)\n",
    "class Net1(nn.Module):\n",
    "    def __init__(self, input_size, hidden_size, num_classes):\n",
    "        super(Net1, self).__init__()\n",
    "        self.fc1 = nn.Linear(input_size, hidden_size) \n",
    "        self.relu = nn.ReLU()\n",
    "        self.fc2 = nn.Linear(hidden_size, num_classes)  \n",
    "    \n",
    "    def forward(self, x):\n",
    "        out = self.fc1(x)\n",
    "        out = self.relu(out)\n",
    "        out = self.fc2(out)\n",
    "        return out\n",
    "    \n",
    "# Neural Network Model (2 hidden layer)\n",
    "class Net2(nn.Module):\n",
    "    def __init__(self, input_size, hidden_size, num_classes):\n",
    "        super(Net2, self).__init__()\n",
    "        self.fc1 = nn.Linear(input_size, hidden_size) \n",
    "        self.relu = nn.ReLU()\n",
    "        self.fc2 = nn.Linear(hidden_size, hidden_size) \n",
    "        self.fc3 = nn.Linear(hidden_size, num_classes)\n",
    "    \n",
    "    def forward(self, x):\n",
    "        out = self.fc1(x)\n",
    "        out = self.relu(out)\n",
    "        out = self.fc2(out)\n",
    "        out = self.relu(out)\n",
    "        out = self.fc3(out)\n",
    "        return nn.functional.softmax(out)\n",
    "\n",
    "# Neural Network Model (3 hidden layer)\n",
    "class Net3(nn.Module):\n",
    "    def __init__(self, input_size, hidden_size, num_classes):\n",
    "        super(Net3, self).__init__()\n",
    "        self.fc1 = nn.Linear(input_size, hidden_size) \n",
    "        self.relu = nn.ReLU()\n",
    "        self.fc2 = nn.Linear(hidden_size, hidden_size) \n",
    "        self.fc3 = nn.Linear(hidden_size, hidden_size)\n",
    "        self.fc4 = nn.Linear(hidden_size, num_classes)\n",
    "    \n",
    "    def forward(self, x):\n",
    "        out = self.fc1(x)\n",
    "        out = self.relu(out)\n",
    "        out = self.fc2(out)\n",
    "        out = self.relu(out)\n",
    "        out = self.fc3(out)\n",
    "        out = self.relu(out)\n",
    "        out = self.fc4(out)\n",
    "        return out\n",
    "    \n",
    "# Neural Network Model (3 hidden layer)\n",
    "class Net4(nn.Module):\n",
    "    def __init__(self, input_size, hidden_size, num_classes):\n",
    "        super(Net4, self).__init__()\n",
    "        self.fc1 = nn.Linear(input_size, hidden_size) \n",
    "        self.relu = nn.ReLU()\n",
    "        self.fc2 = nn.Linear(hidden_size, hidden_size) \n",
    "        self.fc3 = nn.Linear(hidden_size, hidden_size)\n",
    "        self.fc4 = nn.Linear(hidden_size, hidden_size)\n",
    "        self.fc5 = nn.Linear(hidden_size, num_classes)\n",
    "    \n",
    "    def forward(self, x):\n",
    "        out = self.fc1(x)\n",
    "        out = self.relu(out)\n",
    "        out = self.fc2(out)\n",
    "        out = self.relu(out)\n",
    "        out = self.fc3(out)\n",
    "        out = self.relu(out)\n",
    "        out = self.fc4(out)\n",
    "        out = self.relu(out)\n",
    "        out = self.fc5(out)\n",
    "        return out\n",
    "    \n",
    "# Neural Network Model (3 hidden layer)\n",
    "class Net5(nn.Module):\n",
    "    def __init__(self, input_size, hidden_size, num_classes):\n",
    "        super(Net5, self).__init__()\n",
    "        self.fc1 = nn.Linear(input_size, hidden_size) \n",
    "        self.relu = nn.ReLU()\n",
    "        self.fc2 = nn.Linear(hidden_size, hidden_size) \n",
    "        self.fc3 = nn.Linear(hidden_size, hidden_size)\n",
    "        self.fc4 = nn.Linear(hidden_size, hidden_size)\n",
    "        self.fc5 = nn.Linear(hidden_size, hidden_size)\n",
    "        self.fc6 = nn.Linear(hidden_size, num_classes)\n",
    "    \n",
    "    def forward(self, x):\n",
    "        out = self.fc1(x)\n",
    "        out = self.relu(out)\n",
    "        out = self.fc2(out)\n",
    "        out = self.relu(out)\n",
    "        out = self.fc3(out)\n",
    "        out = self.relu(out)\n",
    "        out = self.fc4(out)\n",
    "        out = self.relu(out)\n",
    "        out = self.fc5(out)\n",
    "        out = self.relu(out)\n",
    "        out = self.fc6(out)\n",
    "        return out"
   ]
  },
  {
   "cell_type": "code",
   "execution_count": 4,
   "metadata": {
    "collapsed": true
   },
   "outputs": [],
   "source": [
    "# Hyper Parameters\n",
    "input_size = 32*32*3\n",
    "hidden_size = 512\n",
    "num_classes = 10\n",
    "num_epochs = 10\n",
    "batch_size = 100\n",
    "learning_rate = 0.001"
   ]
  },
  {
   "cell_type": "code",
   "execution_count": 5,
   "metadata": {
    "collapsed": false
   },
   "outputs": [],
   "source": [
    "net = Net1(input_size, hidden_size, num_classes)\n",
    "\n",
    "# Loss and Optimizer\n",
    "criterion = nn.CrossEntropyLoss()  \n",
    "optimizer = torch.optim.Adam(net.parameters(), lr=learning_rate) "
   ]
  },
  {
   "cell_type": "code",
   "execution_count": 6,
   "metadata": {
    "collapsed": false
   },
   "outputs": [
    {
     "name": "stdout",
     "output_type": "stream",
     "text": [
      "Epoch [1/10], Iter [100/500] Loss: 1.9637 Time 5.16s\n",
      "Epoch [1/10], Iter [200/500] Loss: 2.0332 Time 10.28s\n",
      "Epoch [1/10], Iter [300/500] Loss: 1.8928 Time 14.85s\n",
      "Epoch [1/10], Iter [400/500] Loss: 1.8190 Time 19.26s\n",
      "Epoch [1/10], Iter [500/500] Loss: 2.0169 Time 23.64s\n",
      "Epoch [2/10], Iter [100/500] Loss: 1.9809 Time 4.32s\n",
      "Epoch [2/10], Iter [200/500] Loss: 1.7443 Time 11.43s\n",
      "Epoch [2/10], Iter [300/500] Loss: 1.8475 Time 27.17s\n",
      "Epoch [2/10], Iter [400/500] Loss: 1.7801 Time 39.95s\n",
      "Epoch [2/10], Iter [500/500] Loss: 1.8022 Time 50.79s\n",
      "Epoch [3/10], Iter [100/500] Loss: 1.8418 Time 10.98s\n",
      "Epoch [3/10], Iter [200/500] Loss: 1.8845 Time 21.79s\n",
      "Epoch [3/10], Iter [300/500] Loss: 1.6374 Time 32.69s\n",
      "Epoch [3/10], Iter [400/500] Loss: 1.8808 Time 43.86s\n",
      "Epoch [3/10], Iter [500/500] Loss: 1.7303 Time 54.81s\n",
      "Epoch [4/10], Iter [100/500] Loss: 1.5715 Time 11.05s\n",
      "Epoch [4/10], Iter [200/500] Loss: 1.7518 Time 22.28s\n",
      "Epoch [4/10], Iter [300/500] Loss: 1.7845 Time 33.54s\n",
      "Epoch [4/10], Iter [400/500] Loss: 1.5688 Time 44.89s\n",
      "Epoch [4/10], Iter [500/500] Loss: 1.7383 Time 56.08s\n",
      "Epoch [5/10], Iter [100/500] Loss: 1.6634 Time 11.41s\n",
      "Epoch [5/10], Iter [200/500] Loss: 1.6432 Time 22.59s\n",
      "Epoch [5/10], Iter [300/500] Loss: 1.6331 Time 33.89s\n",
      "Epoch [5/10], Iter [400/500] Loss: 1.6444 Time 45.27s\n",
      "Epoch [5/10], Iter [500/500] Loss: 1.5078 Time 56.78s\n",
      "Epoch [6/10], Iter [100/500] Loss: 1.4990 Time 11.36s\n",
      "Epoch [6/10], Iter [200/500] Loss: 1.6474 Time 22.52s\n",
      "Epoch [6/10], Iter [300/500] Loss: 1.7752 Time 34.17s\n",
      "Epoch [6/10], Iter [400/500] Loss: 1.5436 Time 45.61s\n",
      "Epoch [6/10], Iter [500/500] Loss: 1.6493 Time 57.09s\n",
      "Epoch [7/10], Iter [100/500] Loss: 1.7377 Time 11.79s\n",
      "Epoch [7/10], Iter [200/500] Loss: 1.7367 Time 23.35s\n",
      "Epoch [7/10], Iter [300/500] Loss: 1.6832 Time 34.84s\n",
      "Epoch [7/10], Iter [400/500] Loss: 1.7851 Time 45.95s\n",
      "Epoch [7/10], Iter [500/500] Loss: 1.7646 Time 57.24s\n",
      "Epoch [8/10], Iter [100/500] Loss: 1.5393 Time 11.65s\n",
      "Epoch [8/10], Iter [200/500] Loss: 1.5768 Time 23.27s\n",
      "Epoch [8/10], Iter [300/500] Loss: 1.4448 Time 34.93s\n",
      "Epoch [8/10], Iter [400/500] Loss: 1.8158 Time 46.70s\n",
      "Epoch [8/10], Iter [500/500] Loss: 1.6396 Time 58.50s\n",
      "Epoch [9/10], Iter [100/500] Loss: 1.6316 Time 11.75s\n",
      "Epoch [9/10], Iter [200/500] Loss: 1.5402 Time 23.47s\n",
      "Epoch [9/10], Iter [300/500] Loss: 1.6585 Time 35.23s\n",
      "Epoch [9/10], Iter [400/500] Loss: 1.5456 Time 46.91s\n",
      "Epoch [9/10], Iter [500/500] Loss: 1.3617 Time 58.58s\n",
      "Epoch [10/10], Iter [100/500] Loss: 1.5212 Time 11.75s\n",
      "Epoch [10/10], Iter [200/500] Loss: 1.5876 Time 23.51s\n",
      "Epoch [10/10], Iter [300/500] Loss: 1.3776 Time 35.31s\n",
      "Epoch [10/10], Iter [400/500] Loss: 1.7722 Time 47.33s\n",
      "Epoch [10/10], Iter [500/500] Loss: 1.6810 Time 59.57s\n"
     ]
    }
   ],
   "source": [
    "# Train the Model\n",
    "loss_conv = []\n",
    "for epoch in range(num_epochs):\n",
    "    t0 = time()\n",
    "    for i, (images, labels) in enumerate(train_loader):  \n",
    "        # Convert torch tensor to Variable\n",
    "        images = Variable(images.view(-1, 32*32*3))\n",
    "        labels = Variable(labels)\n",
    "        \n",
    "        # Forward + Backward + Optimize\n",
    "        optimizer.zero_grad()  # zero the gradient buffer\n",
    "        outputs = net(images)\n",
    "        loss = criterion(outputs, labels)\n",
    "        loss.backward()\n",
    "        optimizer.step()\n",
    "        \n",
    "        if (i+1) % 100 == 0:\n",
    "            loss_conv.append(loss.data[0])\n",
    "            print (\"Epoch [%d/%d], Iter [%d/%d] Loss: %.4f Time %.2fs\" \\\n",
    "                   %(epoch+1, num_epochs, i+1, 500, loss.data[0], time()-t0))"
   ]
  },
  {
   "cell_type": "code",
   "execution_count": 7,
   "metadata": {
    "collapsed": false
   },
   "outputs": [
    {
     "data": {
      "image/png": "[encoded data removed]",
      "text/plain": [
       "<matplotlib.figure.Figure at 0x10701d350>"
      ]
     },
     "metadata": {},
     "output_type": "display_data"
    }
   ],
   "source": [
    "plt.plot(loss_conv)\n",
    "plt.xlabel('Batch')\n",
    "plt.ylabel('Loss')\n",
    "plt.show()"
   ]
  },
  {
   "cell_type": "code",
   "execution_count": 8,
   "metadata": {
    "collapsed": false
   },
   "outputs": [
    {
     "name": "stdout",
     "output_type": "stream",
     "text": [
      "Accuracy of the network on the 60000 train images: 42.190000 %\n"
     ]
    }
   ],
   "source": [
    "# Train error of the Model\n",
    "correct = 0\n",
    "total = 0\n",
    "for images, labels in train_loader:\n",
    "    images = Variable(images.view(-1, 32*32*3))\n",
    "    outputs = net(images)\n",
    "    _, predicted = torch.max(outputs.data, 1)\n",
    "    total += labels.size(0)\n",
    "    correct += (predicted == labels).sum()\n",
    "\n",
    "print('Accuracy of the network on the 60000 train images: %f %%' % (100. * correct / total))"
   ]
  },
  {
   "cell_type": "code",
   "execution_count": 9,
   "metadata": {
    "collapsed": false
   },
   "outputs": [
    {
     "name": "stdout",
     "output_type": "stream",
     "text": [
      "Accuracy of the network on the 10000 test images: 44.260000 %\n"
     ]
    }
   ],
   "source": [
    "# Test the Model\n",
    "correct = 0\n",
    "total = 0\n",
    "for images, labels in test_loader:\n",
    "    images = Variable(images.view(-1, 32*32*3))\n",
    "    outputs = net(images)\n",
    "    _, predicted = torch.max(outputs.data, 1)\n",
    "    total += labels.size(0)\n",
    "    correct += (predicted == labels).sum()\n",
    "\n",
    "print('Accuracy of the network on the 10000 test images: %f %%' % (100. * correct / total))"
   ]
  },
  {
   "cell_type": "markdown",
   "metadata": {
    "collapsed": true
   },
   "source": [
    "Experiment results - unit-wise\n",
    "- Input 3072, 1 layer 512 unit, ? param, train acc 41.75%, test acc 43.47%\n",
    "- Input 3072, 1 layer 1024 unit, ? param, train acc 43.59%, test acc 45.75%\n",
    "- Input 3072, 1 layer 2048 unit, ? param, train acc 44.07%, test acc 44.80%\n",
    "\n",
    "Experiment results - layer-wise\n",
    "- Input 3072, 1 layer 512 unit, ? param, train acc 41.75%, test acc 43.47%\n",
    "- Input 3072, 2 layer 512 unit, ? param, train acc 44.05%, test acc 44.92%\n",
    "- Input 3072, 3 layer 512 unit, ? param, train acc 44.65%, test acc 45.77%\n",
    "- Input 3072, 4 layer 512 unit, ? param, train acc 43.21%, test acc 44.36%\n",
    "- Input 3072, 5 layer 512 unit, ? param, train acc 42.95%, test acc 44.37%"
   ]
  },
  {
   "cell_type": "code",
   "execution_count": 33,
   "metadata": {
    "collapsed": true
   },
   "outputs": [],
   "source": [
    "# Save the Model\n",
    "torch.save(net.state_dict(), 'mlp_cifar10.pkl')"
   ]
  }
 ],
 "metadata": {
  "anaconda-cloud": {},
  "kernelspec": {
   "display_name": "Python [default]",
   "language": "python",
   "name": "python2"
  },
  "language_info": {
   "codemirror_mode": {
    "name": "ipython",
    "version": 2
   },
   "file_extension": ".py",
   "mimetype": "text/x-python",
   "name": "python",
   "nbconvert_exporter": "python",
   "pygments_lexer": "ipython2",
   "version": "2.7.12"
  }
 },
 "nbformat": 4,
 "nbformat_minor": 1
}
