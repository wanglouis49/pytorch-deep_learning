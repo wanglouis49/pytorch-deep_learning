{
 "cells": [
  {
   "cell_type": "code",
   "execution_count": 1,
   "metadata": {
    "collapsed": true
   },
   "outputs": [],
   "source": [
    "import torch\n",
    "import torch.nn as nn\n",
    "import torchvision.datasets as dsets\n",
    "import torchvision.transforms as transforms\n",
    "from torch.autograd import Variable\n",
    "import numpy as np\n",
    "import matplotlib.pyplot as plt"
   ]
  },
  {
   "cell_type": "code",
   "execution_count": 21,
   "metadata": {
    "collapsed": true
   },
   "outputs": [],
   "source": [
    "# Hyper Parameters\n",
    "class Config:\n",
    "    input_size = 784\n",
    "    hidden_size = 500\n",
    "    num_layers = 10\n",
    "    num_classes = 10\n",
    "    num_epochs = 5\n",
    "    batch_size = 100\n",
    "    learning_rate = 0.001\n",
    "hyper_param = Config()"
   ]
  },
  {
   "cell_type": "code",
   "execution_count": 3,
   "metadata": {
    "collapsed": false
   },
   "outputs": [],
   "source": [
    "# MNIST Dataset \n",
    "train_dataset = dsets.MNIST(root='../data', \n",
    "                            train=True, \n",
    "                            transform=transforms.ToTensor(),  \n",
    "                            download=True)\n",
    "\n",
    "test_dataset = dsets.MNIST(root='../data', \n",
    "                           train=False, \n",
    "                           transform=transforms.ToTensor())\n",
    "\n",
    "# Data Loader (Input Pipeline)\n",
    "train_loader = torch.utils.data.DataLoader(dataset=train_dataset, \n",
    "                                           batch_size=hyper_param.batch_size, \n",
    "                                           shuffle=True)\n",
    "\n",
    "test_loader = torch.utils.data.DataLoader(dataset=test_dataset, \n",
    "                                          batch_size=hyper_param.batch_size, \n",
    "                                          shuffle=False)"
   ]
  },
  {
   "cell_type": "code",
   "execution_count": 4,
   "metadata": {
    "collapsed": true
   },
   "outputs": [],
   "source": [
    "# Neural Network Model\n",
    "class Net(nn.Module):\n",
    "    def __init__(self, input_size, hidden_size, num_layers, num_classes):\n",
    "        super(Net, self).__init__()\n",
    "        self.model = nn.Sequential()\n",
    "        \n",
    "        # first layer\n",
    "        self.model.add_module('fc1', nn.Linear(input_size, hidden_size))\n",
    "        self.model.add_module('tanh1', nn.Tanh())\n",
    "        \n",
    "        # intermediate layers\n",
    "        if num_layers > 1:\n",
    "            for i in range(num_layers-1):\n",
    "                self.model.add_module('fc'+str(i+2), nn.Linear(hidden_size, hidden_size))\n",
    "                self.model.add_module('tanh'+str(i+2), nn.Tanh())\n",
    "        \n",
    "        # last layer\n",
    "        self.model.add_module('fc_last', nn.Linear(hidden_size, num_classes))\n",
    "    \n",
    "    def forward(self, x):\n",
    "        return self.model(x)"
   ]
  },
  {
   "cell_type": "code",
   "execution_count": 5,
   "metadata": {
    "collapsed": true
   },
   "outputs": [],
   "source": [
    "# Custom weights initialization\n",
    "def weights_init(m):\n",
    "    if isinstance(m, nn.Linear):\n",
    "        m.weight.data.normal_(0.0, 0.01)\n",
    "        #xavier(m.weight.data)\n",
    "        #xavier(m.bias.data)"
   ]
  },
  {
   "cell_type": "code",
   "execution_count": 38,
   "metadata": {
    "collapsed": false
   },
   "outputs": [],
   "source": [
    "net = Net(hyper_param.input_size, hyper_param.hidden_size, hyper_param.num_layers, hyper_param.num_classes)\n",
    "# net.apply(weights_init)\n",
    "\n",
    "# Loss and Optimizer\n",
    "criterion = nn.CrossEntropyLoss()\n",
    "optimizer = torch.optim.SGD(net.parameters(), lr = hyper_param.learning_rate)"
   ]
  },
  {
   "cell_type": "code",
   "execution_count": 23,
   "metadata": {
    "collapsed": false
   },
   "outputs": [
    {
     "data": {
      "text/plain": [
       "Net (\n",
       "  (model): Sequential (\n",
       "    (fc1): Linear (784 -> 500)\n",
       "    (tanh1): Tanh ()\n",
       "    (fc2): Linear (500 -> 500)\n",
       "    (tanh2): Tanh ()\n",
       "    (fc3): Linear (500 -> 500)\n",
       "    (tanh3): Tanh ()\n",
       "    (fc4): Linear (500 -> 500)\n",
       "    (tanh4): Tanh ()\n",
       "    (fc5): Linear (500 -> 500)\n",
       "    (tanh5): Tanh ()\n",
       "    (fc6): Linear (500 -> 500)\n",
       "    (tanh6): Tanh ()\n",
       "    (fc7): Linear (500 -> 500)\n",
       "    (tanh7): Tanh ()\n",
       "    (fc8): Linear (500 -> 500)\n",
       "    (tanh8): Tanh ()\n",
       "    (fc9): Linear (500 -> 500)\n",
       "    (tanh9): Tanh ()\n",
       "    (fc10): Linear (500 -> 500)\n",
       "    (tanh10): Tanh ()\n",
       "    (fc_last): Linear (500 -> 10)\n",
       "  )\n",
       ")"
      ]
     },
     "execution_count": 23,
     "metadata": {},
     "output_type": "execute_result"
    }
   ],
   "source": [
    "net"
   ]
  },
  {
   "cell_type": "code",
   "execution_count": 39,
   "metadata": {
    "collapsed": false
   },
   "outputs": [
    {
     "name": "stdout",
     "output_type": "stream",
     "text": [
      "Epoch [1/5], Step [100/600], Loss: 2.3069\n",
      "Epoch [1/5], Step [200/600], Loss: 2.3032\n",
      "Epoch [1/5], Step [300/600], Loss: 2.3019\n",
      "Epoch [1/5], Step [400/600], Loss: 2.3075\n",
      "Epoch [1/5], Step [500/600], Loss: 2.3044\n",
      "Epoch [1/5], Step [600/600], Loss: 2.3050\n",
      "Epoch [2/5], Step [100/600], Loss: 2.3027\n",
      "Epoch [2/5], Step [200/600], Loss: 2.3030\n",
      "Epoch [2/5], Step [300/600], Loss: 2.2958\n",
      "Epoch [2/5], Step [400/600], Loss: 2.3010\n",
      "Epoch [2/5], Step [500/600], Loss: 2.3013\n",
      "Epoch [2/5], Step [600/600], Loss: 2.3050\n",
      "Epoch [3/5], Step [100/600], Loss: 2.3070\n",
      "Epoch [3/5], Step [200/600], Loss: 2.3056\n",
      "Epoch [3/5], Step [300/600], Loss: 2.3008\n",
      "Epoch [3/5], Step [400/600], Loss: 2.2997\n",
      "Epoch [3/5], Step [500/600], Loss: 2.3068\n",
      "Epoch [3/5], Step [600/600], Loss: 2.3023\n",
      "Epoch [4/5], Step [100/600], Loss: 2.2996\n",
      "Epoch [4/5], Step [200/600], Loss: 2.3060\n",
      "Epoch [4/5], Step [300/600], Loss: 2.3042\n",
      "Epoch [4/5], Step [400/600], Loss: 2.2969\n",
      "Epoch [4/5], Step [500/600], Loss: 2.3000\n",
      "Epoch [4/5], Step [600/600], Loss: 2.2987\n",
      "Epoch [5/5], Step [100/600], Loss: 2.3018\n",
      "Epoch [5/5], Step [200/600], Loss: 2.3016\n",
      "Epoch [5/5], Step [300/600], Loss: 2.3044\n",
      "Epoch [5/5], Step [400/600], Loss: 2.3048\n",
      "Epoch [5/5], Step [500/600], Loss: 2.3025\n",
      "Epoch [5/5], Step [600/600], Loss: 2.2991\n"
     ]
    }
   ],
   "source": [
    "# Train the Model\n",
    "loss_conv = []\n",
    "for epoch in range(hyper_param.num_epochs):\n",
    "    for i, (images, labels) in enumerate(train_loader):  \n",
    "        # Convert torch tensor to Variable\n",
    "        images = Variable(images.view(-1, 28*28))\n",
    "        labels = Variable(labels)\n",
    "        \n",
    "        # Forward + Backward + Optimize\n",
    "        optimizer.zero_grad()  # zero the gradient buffer\n",
    "        outputs = net(images)\n",
    "        loss = criterion(outputs, labels)\n",
    "        loss.backward()\n",
    "        optimizer.step()\n",
    "        \n",
    "        if (i+1) % 100 == 0:\n",
    "            loss_conv.append(loss.data[0])\n",
    "            print ('Epoch [%d/%d], Step [%d/%d], Loss: %.4f' \n",
    "                   %(epoch+1, hyper_param.num_epochs, i+1, len(train_dataset)//hyper_param.batch_size, loss.data[0]))"
   ]
  },
  {
   "cell_type": "code",
   "execution_count": 40,
   "metadata": {
    "collapsed": false
   },
   "outputs": [
    {
     "data": {
      "image/png": "[encoded data removed]",
      "text/plain": [
       "<matplotlib.figure.Figure at 0x10db55050>"
      ]
     },
     "metadata": {},
     "output_type": "display_data"
    }
   ],
   "source": [
    "plt.plot(loss_conv)\n",
    "plt.xlabel('Batch')\n",
    "plt.ylabel('Loss')\n",
    "plt.show()"
   ]
  },
  {
   "cell_type": "code",
   "execution_count": 41,
   "metadata": {
    "collapsed": false
   },
   "outputs": [
    {
     "name": "stdout",
     "output_type": "stream",
     "text": [
      "Accuracy of the network on the 60000 train images: 11.236667 %\n"
     ]
    }
   ],
   "source": [
    "# Train error of the Model\n",
    "correct = 0\n",
    "total = 0\n",
    "for images, labels in train_loader:\n",
    "    images = Variable(images.view(-1, 28*28))\n",
    "    outputs = net(images)\n",
    "    _, predicted = torch.max(outputs.data, 1)\n",
    "    total += labels.size(0)\n",
    "    correct += (predicted == labels).sum()\n",
    "\n",
    "print('Accuracy of the network on the 60000 train images: %f %%' % (100. * correct / total))"
   ]
  },
  {
   "cell_type": "code",
   "execution_count": 42,
   "metadata": {
    "collapsed": false
   },
   "outputs": [
    {
     "name": "stdout",
     "output_type": "stream",
     "text": [
      "Accuracy of the network on the 10000 test images: 11.350000 %\n"
     ]
    }
   ],
   "source": [
    "# Test the Model\n",
    "correct = 0\n",
    "total = 0\n",
    "for images, labels in test_loader:\n",
    "    images = Variable(images.view(-1, 28*28))\n",
    "    outputs = net(images)\n",
    "    _, predicted = torch.max(outputs.data, 1)\n",
    "    total += labels.size(0)\n",
    "    correct += (predicted == labels).sum()\n",
    "\n",
    "print('Accuracy of the network on the 10000 test images: %f %%' % (100. * correct / total))"
   ]
  },
  {
   "cell_type": "code",
   "execution_count": 43,
   "metadata": {
    "collapsed": false
   },
   "outputs": [],
   "source": [
    "parameters = []\n",
    "for param in net.parameters():\n",
    "    parameters.append(param.data.numpy())"
   ]
  },
  {
   "cell_type": "code",
   "execution_count": 44,
   "metadata": {
    "collapsed": false
   },
   "outputs": [
    {
     "name": "stdout",
     "output_type": "stream",
     "text": [
      "hidden layer 1 had mean 0.000036 and std 0.020606\n",
      "hidden layer 2 had mean -0.000056 and std 0.025808\n",
      "hidden layer 3 had mean -0.000061 and std 0.025810\n",
      "hidden layer 4 had mean -0.000030 and std 0.025828\n",
      "hidden layer 5 had mean -0.000034 and std 0.025818\n",
      "hidden layer 6 had mean 0.000089 and std 0.025840\n",
      "hidden layer 7 had mean -0.000059 and std 0.025829\n",
      "hidden layer 8 had mean -0.000008 and std 0.025831\n",
      "hidden layer 9 had mean 0.000026 and std 0.025812\n",
      "hidden layer 10 had mean 0.000010 and std 0.025813\n"
     ]
    }
   ],
   "source": [
    "for idx, item in enumerate(parameters[:-2]):\n",
    "    if idx%2 == 0:\n",
    "        layer_param = parameters[idx].reshape(784,500) if idx == 0 else \\\n",
    "            parameters[idx].reshape(500,500)\n",
    "        print \"hidden layer %d had mean %f and std %f\" % (idx/2+1, \\\n",
    "            np.mean(layer_param), np.std(layer_param))"
   ]
  },
  {
   "cell_type": "code",
   "execution_count": 45,
   "metadata": {
    "collapsed": false
   },
   "outputs": [
    {
     "name": "stdout",
     "output_type": "stream",
     "text": [
      "hidden layer 1 had mean 0.000243 and std 0.020089\n",
      "hidden layer 2 had mean 0.000968 and std 0.025213\n",
      "hidden layer 3 had mean -0.002382 and std 0.024991\n",
      "hidden layer 4 had mean 0.000637 and std 0.026130\n",
      "hidden layer 5 had mean -0.000352 and std 0.025349\n",
      "hidden layer 6 had mean 0.001491 and std 0.025781\n",
      "hidden layer 7 had mean -0.000063 and std 0.025513\n",
      "hidden layer 8 had mean -0.000910 and std 0.026242\n",
      "hidden layer 9 had mean -0.000610 and std 0.026193\n",
      "hidden layer 10 had mean 0.001261 and std 0.026061\n"
     ]
    }
   ],
   "source": [
    "for idx, item in enumerate(parameters[:-1]):\n",
    "    if idx%2 == 1:\n",
    "        layer_param = parameters[idx].reshape(500)\n",
    "        print \"hidden layer %d had mean %f and std %f\" % (idx/2+1, \\\n",
    "            np.mean(layer_param), np.std(layer_param))"
   ]
  },
  {
   "cell_type": "code",
   "execution_count": 52,
   "metadata": {
    "collapsed": false
   },
   "outputs": [
    {
     "data": {
      "image/png": "[encoded data removed]",
      "text/plain": [
       "<matplotlib.figure.Figure at 0x10d4432d0>"
      ]
     },
     "metadata": {},
     "output_type": "display_data"
    }
   ],
   "source": [
    "plt.hist(parameters[0].reshape(784*500), bins=100)\n",
    "plt.axis([-1., 1., 0, 22000])\n",
    "plt.show()"
   ]
  },
  {
   "cell_type": "code",
   "execution_count": 47,
   "metadata": {
    "collapsed": false
   },
   "outputs": [
    {
     "data": {
      "image/png": "[encoded data removed]",
      "text/plain": [
       "<matplotlib.figure.Figure at 0x10bedfa50>"
      ]
     },
     "metadata": {},
     "output_type": "display_data"
    }
   ],
   "source": [
    "plt.hist(parameters[8].reshape(500*500), bins=100)\n",
    "plt.axis([-1., 1., 0, 22000])\n",
    "plt.show()"
   ]
  },
  {
   "cell_type": "code",
   "execution_count": 48,
   "metadata": {
    "collapsed": false
   },
   "outputs": [
    {
     "data": {
      "image/png": "[encoded data removed]",
      "text/plain": [
       "<matplotlib.figure.Figure at 0x10db12090>"
      ]
     },
     "metadata": {},
     "output_type": "display_data"
    }
   ],
   "source": [
    "plt.hist(parameters[16].reshape(500*500), bins=100)\n",
    "plt.axis([-1., 1., 0, 15000])\n",
    "plt.show()"
   ]
  },
  {
   "cell_type": "code",
   "execution_count": 49,
   "metadata": {
    "collapsed": false
   },
   "outputs": [
    {
     "data": {
      "image/png": "[encoded data removed]",
      "text/plain": [
       "<matplotlib.figure.Figure at 0x112b048d0>"
      ]
     },
     "metadata": {},
     "output_type": "display_data"
    }
   ],
   "source": [
    "plt.hist(parameters[1].reshape(500), bins=100)\n",
    "# plt.axis([-1., 1., 0, 15000])\n",
    "plt.show()"
   ]
  },
  {
   "cell_type": "code",
   "execution_count": 50,
   "metadata": {
    "collapsed": false
   },
   "outputs": [
    {
     "data": {
      "image/png": "[encoded data removed]",
      "text/plain": [
       "<matplotlib.figure.Figure at 0x10d753610>"
      ]
     },
     "metadata": {},
     "output_type": "display_data"
    }
   ],
   "source": [
    "plt.hist(parameters[9].reshape(500), bins=100)\n",
    "# plt.axis([-1., 1., 0, 15000])\n",
    "plt.show()"
   ]
  },
  {
   "cell_type": "code",
   "execution_count": 37,
   "metadata": {
    "collapsed": false
   },
   "outputs": [
    {
     "data": {
      "image/png": "[encoded data removed]",
      "text/plain": [
       "<matplotlib.figure.Figure at 0x10d9f6190>"
      ]
     },
     "metadata": {},
     "output_type": "display_data"
    }
   ],
   "source": [
    "plt.hist(parameters[17].reshape(500), bins=100)\n",
    "# plt.axis([-1., 1., 0, 15000])\n",
    "plt.show()"
   ]
  }
 ],
 "metadata": {
  "anaconda-cloud": {},
  "kernelspec": {
   "display_name": "Python [default]",
   "language": "python",
   "name": "python2"
  },
  "language_info": {
   "codemirror_mode": {
    "name": "ipython",
    "version": 2
   },
   "file_extension": ".py",
   "mimetype": "text/x-python",
   "name": "python",
   "nbconvert_exporter": "python",
   "pygments_lexer": "ipython2",
   "version": "2.7.12"
  }
 },
 "nbformat": 4,
 "nbformat_minor": 1
}
