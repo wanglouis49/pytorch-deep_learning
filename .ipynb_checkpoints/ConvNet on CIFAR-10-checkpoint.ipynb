{
 "cells": [
  {
   "cell_type": "code",
   "execution_count": 74,
   "metadata": {
    "collapsed": true
   },
   "outputs": [],
   "source": [
    "import torch \n",
    "import torch.nn as nn\n",
    "import torchvision.datasets as dsets\n",
    "import torchvision.transforms as transforms\n",
    "from torch.autograd import Variable\n",
    "import matplotlib.pyplot as plt\n",
    "from time import time"
   ]
  },
  {
   "cell_type": "code",
   "execution_count": 2,
   "metadata": {
    "collapsed": false
   },
   "outputs": [
    {
     "name": "stdout",
     "output_type": "stream",
     "text": [
      "Files already downloaded and verified\n"
     ]
    }
   ],
   "source": [
    "# Image Preprocessing \n",
    "transform = transforms.Compose([\n",
    "    transforms.Scale(40),\n",
    "    transforms.RandomHorizontalFlip(),\n",
    "    transforms.RandomCrop(32),\n",
    "    transforms.ToTensor()])\n",
    "\n",
    "# CIFAR-10 Dataset\n",
    "train_dataset = dsets.CIFAR10(root='../data/',\n",
    "                               train=True, \n",
    "                               transform=transform,\n",
    "                               download=True)\n",
    "\n",
    "test_dataset = dsets.CIFAR10(root='../data/',\n",
    "                              train=False, \n",
    "                              transform=transforms.ToTensor())\n",
    "\n",
    "# Data Loader (Input Pipeline)\n",
    "train_loader = torch.utils.data.DataLoader(dataset=train_dataset,\n",
    "                                           batch_size=100, \n",
    "                                           shuffle=True)\n",
    "\n",
    "test_loader = torch.utils.data.DataLoader(dataset=test_dataset,\n",
    "                                          batch_size=100, \n",
    "                                          shuffle=False)"
   ]
  },
  {
   "cell_type": "code",
   "execution_count": 3,
   "metadata": {
    "collapsed": false
   },
   "outputs": [
    {
     "name": "stdout",
     "output_type": "stream",
     "text": [
      "torch.Size([3, 32, 32])\n",
      "6\n"
     ]
    }
   ],
   "source": [
    "image, label = train_dataset[0]\n",
    "print image.size()\n",
    "print label    # 10 labels in total"
   ]
  },
  {
   "cell_type": "code",
   "execution_count": 5,
   "metadata": {
    "collapsed": false
   },
   "outputs": [
    {
     "data": {
      "text/plain": [
       "(50000, 32, 32, 3)"
      ]
     },
     "execution_count": 5,
     "metadata": {},
     "output_type": "execute_result"
    }
   ],
   "source": [
    "train_dataset.train_data.shape"
   ]
  },
  {
   "cell_type": "code",
   "execution_count": 6,
   "metadata": {
    "collapsed": false
   },
   "outputs": [
    {
     "data": {
      "text/plain": [
       "(10000, 32, 32, 3)"
      ]
     },
     "execution_count": 6,
     "metadata": {},
     "output_type": "execute_result"
    }
   ],
   "source": [
    "test_dataset.test_data.shape"
   ]
  },
  {
   "cell_type": "code",
   "execution_count": 75,
   "metadata": {
    "collapsed": true
   },
   "outputs": [],
   "source": [
    "# Hyper Parameters\n",
    "num_epochs = 10\n",
    "batch_size = 100\n",
    "learning_rate = 0.001"
   ]
  },
  {
   "cell_type": "code",
   "execution_count": 146,
   "metadata": {
    "collapsed": true
   },
   "outputs": [],
   "source": [
    "# CNN Model (2 conv layer)\n",
    "class CNN(nn.Module):\n",
    "    def __init__(self):\n",
    "        super(CNN, self).__init__()\n",
    "        self.layer1 = nn.Sequential(\n",
    "            nn.Conv2d(3, 16, kernel_size=3, padding=1),\n",
    "            nn.BatchNorm2d(16),\n",
    "            nn.ReLU(),\n",
    "            nn.MaxPool2d(2))\n",
    "        self.fc = nn.Linear(16*16*16, 10)\n",
    "        \n",
    "    def forward(self, x):\n",
    "        out = self.layer1(x)\n",
    "        out = out.view(out.size(0), -1)\n",
    "        out = self.fc(out)\n",
    "        return out"
   ]
  },
  {
   "cell_type": "code",
   "execution_count": 147,
   "metadata": {
    "collapsed": true
   },
   "outputs": [],
   "source": [
    "cnn = CNN()\n",
    "\n",
    "# Loss and Optimizer\n",
    "criterion = nn.CrossEntropyLoss()\n",
    "optimizer = torch.optim.Adam(cnn.parameters(), lr=learning_rate)"
   ]
  },
  {
   "cell_type": "code",
   "execution_count": 148,
   "metadata": {
    "collapsed": false,
    "scrolled": true
   },
   "outputs": [
    {
     "name": "stdout",
     "output_type": "stream",
     "text": [
      "Epoch [1/10], Iter [100/500] Loss: 1.7721 Time: 8.36s\n",
      "Epoch [1/10], Iter [200/500] Loss: 1.6217 Time: 16.72s\n",
      "Epoch [1/10], Iter [300/500] Loss: 1.6609 Time: 25.21s\n",
      "Epoch [1/10], Iter [400/500] Loss: 1.5227 Time: 33.12s\n",
      "Epoch [1/10], Iter [500/500] Loss: 1.4078 Time: 40.80s\n",
      "Epoch [2/10], Iter [100/500] Loss: 1.4690 Time: 7.70s\n",
      "Epoch [2/10], Iter [200/500] Loss: 1.5524 Time: 15.38s\n",
      "Epoch [2/10], Iter [300/500] Loss: 1.6779 Time: 23.09s\n",
      "Epoch [2/10], Iter [400/500] Loss: 1.3818 Time: 30.79s\n",
      "Epoch [2/10], Iter [500/500] Loss: 1.3928 Time: 38.46s\n",
      "Epoch [3/10], Iter [100/500] Loss: 1.4514 Time: 7.66s\n",
      "Epoch [3/10], Iter [200/500] Loss: 1.5089 Time: 15.36s\n",
      "Epoch [3/10], Iter [300/500] Loss: 1.5261 Time: 23.18s\n",
      "Epoch [3/10], Iter [400/500] Loss: 1.4142 Time: 30.85s\n",
      "Epoch [3/10], Iter [500/500] Loss: 1.6152 Time: 38.54s\n",
      "Epoch [4/10], Iter [100/500] Loss: 1.4471 Time: 7.77s\n",
      "Epoch [4/10], Iter [200/500] Loss: 1.4900 Time: 15.55s\n",
      "Epoch [4/10], Iter [300/500] Loss: 1.2222 Time: 23.23s\n",
      "Epoch [4/10], Iter [400/500] Loss: 1.3390 Time: 30.87s\n",
      "Epoch [4/10], Iter [500/500] Loss: 1.2453 Time: 38.67s\n",
      "Epoch [5/10], Iter [100/500] Loss: 1.2824 Time: 7.68s\n",
      "Epoch [5/10], Iter [200/500] Loss: 1.4252 Time: 15.38s\n",
      "Epoch [5/10], Iter [300/500] Loss: 1.4166 Time: 23.16s\n",
      "Epoch [5/10], Iter [400/500] Loss: 1.3459 Time: 30.90s\n",
      "Epoch [5/10], Iter [500/500] Loss: 1.3744 Time: 38.58s\n",
      "Epoch [6/10], Iter [100/500] Loss: 1.2781 Time: 7.73s\n",
      "Epoch [6/10], Iter [200/500] Loss: 1.4069 Time: 15.49s\n",
      "Epoch [6/10], Iter [300/500] Loss: 1.2498 Time: 23.25s\n",
      "Epoch [6/10], Iter [400/500] Loss: 1.2457 Time: 30.94s\n",
      "Epoch [6/10], Iter [500/500] Loss: 1.2505 Time: 38.68s\n",
      "Epoch [7/10], Iter [100/500] Loss: 1.2440 Time: 7.78s\n",
      "Epoch [7/10], Iter [200/500] Loss: 1.4947 Time: 15.47s\n",
      "Epoch [7/10], Iter [300/500] Loss: 1.0347 Time: 23.24s\n",
      "Epoch [7/10], Iter [400/500] Loss: 1.1809 Time: 30.98s\n",
      "Epoch [7/10], Iter [500/500] Loss: 1.1442 Time: 38.71s\n",
      "Epoch [8/10], Iter [100/500] Loss: 1.1689 Time: 7.72s\n",
      "Epoch [8/10], Iter [200/500] Loss: 1.4267 Time: 15.39s\n",
      "Epoch [8/10], Iter [300/500] Loss: 1.2379 Time: 23.05s\n",
      "Epoch [8/10], Iter [400/500] Loss: 1.3956 Time: 30.71s\n",
      "Epoch [8/10], Iter [500/500] Loss: 1.5065 Time: 38.37s\n",
      "Epoch [9/10], Iter [100/500] Loss: 1.4996 Time: 7.72s\n",
      "Epoch [9/10], Iter [200/500] Loss: 1.2618 Time: 15.44s\n",
      "Epoch [9/10], Iter [300/500] Loss: 1.4051 Time: 23.11s\n",
      "Epoch [9/10], Iter [400/500] Loss: 1.3399 Time: 30.84s\n",
      "Epoch [9/10], Iter [500/500] Loss: 1.4325 Time: 38.57s\n",
      "Epoch [10/10], Iter [100/500] Loss: 1.3787 Time: 7.65s\n",
      "Epoch [10/10], Iter [200/500] Loss: 1.1449 Time: 15.35s\n",
      "Epoch [10/10], Iter [300/500] Loss: 1.3141 Time: 23.02s\n",
      "Epoch [10/10], Iter [400/500] Loss: 1.1868 Time: 30.82s\n",
      "Epoch [10/10], Iter [500/500] Loss: 1.2057 Time: 38.57s\n"
     ]
    }
   ],
   "source": [
    "# Train the Model\n",
    "loss_conv = []\n",
    "for epoch in range(num_epochs):\n",
    "    t0 = time()\n",
    "    for i, (images, labels) in enumerate(train_loader):\n",
    "        images = Variable(images)\n",
    "        labels = Variable(labels)\n",
    "        \n",
    "        # Forward + Backward + Optimize\n",
    "        optimizer.zero_grad()\n",
    "        outputs = cnn(images)\n",
    "        loss = criterion(outputs, labels)\n",
    "        loss.backward()\n",
    "        optimizer.step()\n",
    "        \n",
    "        if (i+1) % 100 == 0:\n",
    "            loss_conv.append(loss.data[0])\n",
    "            print ('Epoch [%d/%d], Iter [%d/%d] Loss: %.4f Time: %.2fs' \n",
    "                   %(epoch+1, num_epochs, i+1, len(train_dataset)//batch_size, loss.data[0], time()-t0))"
   ]
  },
  {
   "cell_type": "code",
   "execution_count": 149,
   "metadata": {
    "collapsed": false
   },
   "outputs": [
    {
     "data": {
      "image/png": "[encoded data removed]",
      "text/plain": [
       "<matplotlib.figure.Figure at 0x10b5f5ed0>"
      ]
     },
     "metadata": {},
     "output_type": "display_data"
    }
   ],
   "source": [
    "plt.plot(loss_conv)\n",
    "plt.xlabel('Batch')\n",
    "plt.ylabel('Loss')\n",
    "plt.show()"
   ]
  },
  {
   "cell_type": "code",
   "execution_count": 150,
   "metadata": {
    "collapsed": false
   },
   "outputs": [
    {
     "name": "stdout",
     "output_type": "stream",
     "text": [
      "Train Accuracy of the model on the 50000 test images: 56.020000 %\n"
     ]
    }
   ],
   "source": [
    "# Train the Model\n",
    "cnn.eval()  # Change model to 'eval' mode (BN uses moving mean/var).\n",
    "correct = 0\n",
    "total = 0\n",
    "for images, labels in train_loader:\n",
    "    images = Variable(images)\n",
    "    outputs = cnn(images)\n",
    "    _, predicted = torch.max(outputs.data, 1)\n",
    "    total += labels.size(0)\n",
    "    correct += (predicted == labels).sum()\n",
    "\n",
    "print('Train Accuracy of the model on the 50000 test images: %f %%' % (100. * correct / total))"
   ]
  },
  {
   "cell_type": "code",
   "execution_count": 151,
   "metadata": {
    "collapsed": false
   },
   "outputs": [
    {
     "name": "stdout",
     "output_type": "stream",
     "text": [
      "Test Accuracy of the model on the 10000 test images: 44.580000 %\n"
     ]
    }
   ],
   "source": [
    "# Test the Model\n",
    "cnn.eval()  # Change model to 'eval' mode (BN uses moving mean/var).\n",
    "correct = 0\n",
    "total = 0\n",
    "for images, labels in test_loader:\n",
    "    images = Variable(images)\n",
    "    outputs = cnn(images)\n",
    "    _, predicted = torch.max(outputs.data, 1)\n",
    "    total += labels.size(0)\n",
    "    correct += (predicted == labels).sum()\n",
    "\n",
    "print('Test Accuracy of the model on the 10000 test images: %f %%' % (100. * correct / total))"
   ]
  },
  {
   "cell_type": "markdown",
   "metadata": {
    "collapsed": true
   },
   "source": [
    "Experimental results 3x3 kernel\n",
    "- 1 conv layer, train acc 56.02%, test acc 44.58%\n",
    "- 2 conv layers, train acc 62.60%, test acc 57.85%\n",
    "- 3 conv layers, train acc 70.52%, test acc 67.80%\n",
    "- 4 conv layers, train acc 74.07%, test acc 69.71%\n",
    "- 5 conv layers, train acc 78.97%, test acc 72.47%\n",
    "\n",
    "Experimental results 5x5 kernel\n",
    "- 1 conv layer, train acc 57.18%, test acc 56.07%\n",
    "- 2 conv layers, train acc 63.77%, test acc 62.45%\n",
    "- 3 conv layers, train acc 69.53%, test acc 65.84%\n",
    "- 4 conv layers, train acc 72.31%, test acc 68.97%\n",
    "- 5 conv layers, train acc 78.24%, test acc 71.84%"
   ]
  },
  {
   "cell_type": "code",
   "execution_count": 23,
   "metadata": {
    "collapsed": true
   },
   "outputs": [],
   "source": [
    "# Save the Trained Model\n",
    "torch.save(cnn.state_dict(), 'cnn_cifar10.pkl')"
   ]
  }
 ],
 "metadata": {
  "anaconda-cloud": {},
  "kernelspec": {
   "display_name": "Python [default]",
   "language": "python",
   "name": "python2"
  },
  "language_info": {
   "codemirror_mode": {
    "name": "ipython",
    "version": 2
   },
   "file_extension": ".py",
   "mimetype": "text/x-python",
   "name": "python",
   "nbconvert_exporter": "python",
   "pygments_lexer": "ipython2",
   "version": "2.7.12"
  }
 },
 "nbformat": 4,
 "nbformat_minor": 1
}
