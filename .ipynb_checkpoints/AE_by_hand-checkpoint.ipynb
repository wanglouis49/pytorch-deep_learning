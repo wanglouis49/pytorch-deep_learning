{
 "cells": [
  {
   "cell_type": "code",
   "execution_count": 2,
   "metadata": {
    "collapsed": true
   },
   "outputs": [],
   "source": [
    "import torch\n",
    "import torchvision.datasets as dsets\n",
    "import torchvision.transforms as transforms\n",
    "from torch.autograd import Variable\n",
    "import matplotlib.pyplot as plt"
   ]
  },
  {
   "cell_type": "code",
   "execution_count": 3,
   "metadata": {
    "collapsed": true
   },
   "outputs": [],
   "source": [
    "input_size = 784\n",
    "hidden_size = 2\n",
    "num_epochs = 5\n",
    "batch_size = 100\n",
    "learning_rate = 1e-3"
   ]
  },
  {
   "cell_type": "code",
   "execution_count": 6,
   "metadata": {
    "collapsed": true
   },
   "outputs": [],
   "source": [
    "# MNIST Dataset \n",
    "train_dataset = dsets.MNIST(root='../data', \n",
    "                            train=True, \n",
    "                            transform=transforms.ToTensor(),  \n",
    "                            download=True)\n",
    "\n",
    "test_dataset = dsets.MNIST(root='../data', \n",
    "                           train=False, \n",
    "                           transform=transforms.ToTensor())\n",
    "\n",
    "# Data Loader (Input Pipeline)\n",
    "train_loader = torch.utils.data.DataLoader(dataset=train_dataset, \n",
    "                                           batch_size=batch_size, \n",
    "                                           shuffle=True)\n",
    "\n",
    "test_loader = torch.utils.data.DataLoader(dataset=test_dataset, \n",
    "                                          batch_size=batch_size, \n",
    "                                          shuffle=False)"
   ]
  },
  {
   "cell_type": "code",
   "execution_count": 4,
   "metadata": {
    "collapsed": true
   },
   "outputs": [],
   "source": [
    "w = Variable(torch.randn(input_size, hidden_size), requires_grad=True)"
   ]
  },
  {
   "cell_type": "code",
   "execution_count": 14,
   "metadata": {
    "collapsed": false
   },
   "outputs": [
    {
     "name": "stdout",
     "output_type": "stream",
     "text": [
      "Epoch [1/5], Step [100/600], Loss: nan\n",
      "Epoch [1/5], Step [200/600], Loss: nan\n",
      "Epoch [1/5], Step [300/600], Loss: nan\n",
      "Epoch [1/5], Step [400/600], Loss: nan\n",
      "Epoch [1/5], Step [500/600], Loss: nan\n",
      "Epoch [1/5], Step [600/600], Loss: nan\n",
      "Epoch [2/5], Step [100/600], Loss: nan\n",
      "Epoch [2/5], Step [200/600], Loss: nan\n",
      "Epoch [2/5], Step [300/600], Loss: nan\n",
      "Epoch [2/5], Step [400/600], Loss: nan\n",
      "Epoch [2/5], Step [500/600], Loss: nan\n",
      "Epoch [2/5], Step [600/600], Loss: nan\n",
      "Epoch [3/5], Step [100/600], Loss: nan\n",
      "Epoch [3/5], Step [200/600], Loss: nan\n",
      "Epoch [3/5], Step [300/600], Loss: nan\n",
      "Epoch [3/5], Step [400/600], Loss: nan\n",
      "Epoch [3/5], Step [500/600], Loss: nan\n",
      "Epoch [3/5], Step [600/600], Loss: nan\n",
      "Epoch [4/5], Step [100/600], Loss: nan\n",
      "Epoch [4/5], Step [200/600], Loss: nan\n",
      "Epoch [4/5], Step [300/600], Loss: nan\n",
      "Epoch [4/5], Step [400/600], Loss: nan\n",
      "Epoch [4/5], Step [500/600], Loss: nan\n",
      "Epoch [4/5], Step [600/600], Loss: nan\n",
      "Epoch [5/5], Step [100/600], Loss: nan\n",
      "Epoch [5/5], Step [200/600], Loss: nan\n",
      "Epoch [5/5], Step [300/600], Loss: nan\n",
      "Epoch [5/5], Step [400/600], Loss: nan\n",
      "Epoch [5/5], Step [500/600], Loss: nan\n",
      "Epoch [5/5], Step [600/600], Loss: nan\n"
     ]
    }
   ],
   "source": [
    "for epoch in range(num_epochs):\n",
    "    for i, (images, _) in enumerate(train_loader):\n",
    "        x = Variable(images.view(-1, 28*28))\n",
    "        \n",
    "        h = x.mm(w)\n",
    "        y = h.mm(w.t())\n",
    "        \n",
    "        loss = (x - y).pow(2).sum()\n",
    "        \n",
    "        if w.grad: w.grad.data.zero_()\n",
    "        loss.backward()\n",
    "        \n",
    "        w.data -= learning_rate * w.grad.data\n",
    "        \n",
    "        if (i+1) % 100 == 0:\n",
    "            print ('Epoch [%d/%d], Step [%d/%d], Loss: %.4f' \n",
    "                   %(epoch+1, num_epochs, i+1, len(train_dataset)//batch_size, loss.data[0]))"
   ]
  }
 ],
 "metadata": {
  "anaconda-cloud": {},
  "kernelspec": {
   "display_name": "Python [default]",
   "language": "python",
   "name": "python2"
  },
  "language_info": {
   "codemirror_mode": {
    "name": "ipython",
    "version": 2
   },
   "file_extension": ".py",
   "mimetype": "text/x-python",
   "name": "python",
   "nbconvert_exporter": "python",
   "pygments_lexer": "ipython2",
   "version": "2.7.12"
  }
 },
 "nbformat": 4,
 "nbformat_minor": 1
}
