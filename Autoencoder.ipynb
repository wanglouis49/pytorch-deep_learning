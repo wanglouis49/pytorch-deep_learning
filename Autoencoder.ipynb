{
 "cells": [
  {
   "cell_type": "code",
   "execution_count": 1,
   "metadata": {
    "collapsed": true
   },
   "outputs": [],
   "source": [
    "import torch\n",
    "import torch.nn as nn\n",
    "import torchvision.datasets as dsets\n",
    "import torchvision.transforms as transforms\n",
    "from torch.autograd import Variable\n",
    "import matplotlib.pyplot as plt"
   ]
  },
  {
   "cell_type": "code",
   "execution_count": 23,
   "metadata": {
    "collapsed": true
   },
   "outputs": [],
   "source": [
    "input_size = 784\n",
    "hidden_size = 2\n",
    "num_epochs = 5\n",
    "batch_size = 100\n",
    "learning_rate = 1e-3"
   ]
  },
  {
   "cell_type": "code",
   "execution_count": 3,
   "metadata": {
    "collapsed": true
   },
   "outputs": [],
   "source": [
    "# MNIST Dataset \n",
    "train_dataset = dsets.MNIST(root='../data', \n",
    "                            train=True, \n",
    "                            transform=transforms.ToTensor(),  \n",
    "                            download=True)\n",
    "\n",
    "test_dataset = dsets.MNIST(root='../data', \n",
    "                           train=False, \n",
    "                           transform=transforms.ToTensor())\n",
    "\n",
    "# Data Loader (Input Pipeline)\n",
    "train_loader = torch.utils.data.DataLoader(dataset=train_dataset, \n",
    "                                           batch_size=batch_size, \n",
    "                                           shuffle=True)\n",
    "\n",
    "test_loader = torch.utils.data.DataLoader(dataset=test_dataset, \n",
    "                                          batch_size=batch_size, \n",
    "                                          shuffle=False)"
   ]
  },
  {
   "cell_type": "code",
   "execution_count": 7,
   "metadata": {
    "collapsed": false
   },
   "outputs": [],
   "source": [
    "class AutoEncoder(nn.Module):\n",
    "    def __init__(self, input_size, hidden_size):\n",
    "        super(AutoEncoder, self).__init__()\n",
    "        self.encoder = nn.Linear(input_size, hidden_size)\n",
    "        self.decoder = nn.Linear(hidden_size, input_size)\n",
    "        \n",
    "    def forward(self, x):\n",
    "        return self.decoder(self.encoder(x))"
   ]
  },
  {
   "cell_type": "code",
   "execution_count": 24,
   "metadata": {
    "collapsed": false
   },
   "outputs": [
    {
     "data": {
      "text/plain": [
       "AutoEncoder (\n",
       "  (encoder): Linear (784 -> 2)\n",
       "  (decoder): Linear (2 -> 784)\n",
       ")"
      ]
     },
     "execution_count": 24,
     "metadata": {},
     "output_type": "execute_result"
    }
   ],
   "source": [
    "autoencoder = AutoEncoder(input_size, hidden_size)\n",
    "optimizer = torch.optim.SGD(autoencoder.parameters(), lr=learning_rate)\n",
    "autoencoder"
   ]
  },
  {
   "cell_type": "code",
   "execution_count": 26,
   "metadata": {
    "collapsed": false
   },
   "outputs": [],
   "source": [
    "criterion = nn.MSELoss()\n",
    "optimizer = torch.optim.Adam(autoencoder.parameters(), lr=learning_rate)"
   ]
  },
  {
   "cell_type": "code",
   "execution_count": 27,
   "metadata": {
    "collapsed": false
   },
   "outputs": [
    {
     "name": "stdout",
     "output_type": "stream",
     "text": [
      "Epoch [1/5], Step [100/600], Loss: 0.1984\n",
      "Epoch [1/5], Step [200/600], Loss: 0.1281\n",
      "Epoch [1/5], Step [300/600], Loss: 0.0913\n",
      "Epoch [1/5], Step [400/600], Loss: 0.0745\n",
      "Epoch [1/5], Step [500/600], Loss: 0.0689\n",
      "Epoch [1/5], Step [600/600], Loss: 0.0660\n",
      "Epoch [2/5], Step [100/600], Loss: 0.0692\n",
      "Epoch [2/5], Step [200/600], Loss: 0.0664\n",
      "Epoch [2/5], Step [300/600], Loss: 0.0663\n",
      "Epoch [2/5], Step [400/600], Loss: 0.0676\n",
      "Epoch [2/5], Step [500/600], Loss: 0.0657\n",
      "Epoch [2/5], Step [600/600], Loss: 0.0646\n",
      "Epoch [3/5], Step [100/600], Loss: 0.0621\n",
      "Epoch [3/5], Step [200/600], Loss: 0.0680\n",
      "Epoch [3/5], Step [300/600], Loss: 0.0633\n",
      "Epoch [3/5], Step [400/600], Loss: 0.0656\n",
      "Epoch [3/5], Step [500/600], Loss: 0.0631\n",
      "Epoch [3/5], Step [600/600], Loss: 0.0648\n",
      "Epoch [4/5], Step [100/600], Loss: 0.0639\n",
      "Epoch [4/5], Step [200/600], Loss: 0.0611\n",
      "Epoch [4/5], Step [300/600], Loss: 0.0632\n",
      "Epoch [4/5], Step [400/600], Loss: 0.0613\n",
      "Epoch [4/5], Step [500/600], Loss: 0.0634\n",
      "Epoch [4/5], Step [600/600], Loss: 0.0630\n",
      "Epoch [5/5], Step [100/600], Loss: 0.0641\n",
      "Epoch [5/5], Step [200/600], Loss: 0.0595\n",
      "Epoch [5/5], Step [300/600], Loss: 0.0619\n",
      "Epoch [5/5], Step [400/600], Loss: 0.0609\n",
      "Epoch [5/5], Step [500/600], Loss: 0.0590\n",
      "Epoch [5/5], Step [600/600], Loss: 0.0612\n"
     ]
    }
   ],
   "source": [
    "for epoch in range(num_epochs):\n",
    "    for i, (images, _) in enumerate(train_loader):\n",
    "        images = Variable(images.view(-1, 28*28))\n",
    "        \n",
    "        optimizer.zero_grad()\n",
    "        outputs = autoencoder(images)\n",
    "        loss = criterion(outputs, images)\n",
    "        loss.backward()\n",
    "        optimizer.step()\n",
    "        \n",
    "        \n",
    "        if (i+1) % 100 == 0:\n",
    "            print ('Epoch [%d/%d], Step [%d/%d], Loss: %.4f' \n",
    "                   %(epoch+1, num_epochs, i+1, len(train_dataset)//batch_size, loss.data[0]))"
   ]
  },
  {
   "cell_type": "code",
   "execution_count": 31,
   "metadata": {
    "collapsed": false
   },
   "outputs": [],
   "source": [
    "params = []\n",
    "for param in autoencoder.parameters():\n",
    "    params.append(param)"
   ]
  },
  {
   "cell_type": "code",
   "execution_count": 39,
   "metadata": {
    "collapsed": false,
    "scrolled": false
   },
   "outputs": [
    {
     "data": {
      "text/plain": [
       "Parameter containing:\n",
       " 0.3301\n",
       " 0.3083\n",
       "[torch.FloatTensor of size 2]"
      ]
     },
     "execution_count": 39,
     "metadata": {},
     "output_type": "execute_result"
    }
   ],
   "source": [
    "params[1]"
   ]
  },
  {
   "cell_type": "code",
   "execution_count": null,
   "metadata": {
    "collapsed": true
   },
   "outputs": [],
   "source": []
  },
  {
   "cell_type": "code",
   "execution_count": null,
   "metadata": {
    "collapsed": true
   },
   "outputs": [],
   "source": []
  }
 ],
 "metadata": {
  "anaconda-cloud": {},
  "kernelspec": {
   "display_name": "Python [default]",
   "language": "python",
   "name": "python2"
  },
  "language_info": {
   "codemirror_mode": {
    "name": "ipython",
    "version": 2
   },
   "file_extension": ".py",
   "mimetype": "text/x-python",
   "name": "python",
   "nbconvert_exporter": "python",
   "pygments_lexer": "ipython2",
   "version": "2.7.12"
  }
 },
 "nbformat": 4,
 "nbformat_minor": 1
}
