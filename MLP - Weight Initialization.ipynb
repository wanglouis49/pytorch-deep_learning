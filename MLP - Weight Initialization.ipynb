{
 "cells": [
  {
   "cell_type": "code",
   "execution_count": 1,
   "metadata": {
    "collapsed": true
   },
   "outputs": [],
   "source": [
    "import torch\n",
    "import torch.nn as nn\n",
    "import torchvision.datasets as dsets\n",
    "import torchvision.transforms as transforms\n",
    "from torch.autograd import Variable\n",
    "import numpy as np\n",
    "import matplotlib.pyplot as plt"
   ]
  },
  {
   "cell_type": "code",
   "execution_count": 36,
   "metadata": {
    "collapsed": true
   },
   "outputs": [],
   "source": [
    "# Hyper Parameters\n",
    "class Config:\n",
    "    input_size = 784\n",
    "    hidden_size = 20\n",
    "    num_layers = 2\n",
    "    num_classes = 10\n",
    "    num_epochs = 15\n",
    "    batch_size = 100\n",
    "    learning_rate = 0.001\n",
    "hyper_param = Config()"
   ]
  },
  {
   "cell_type": "code",
   "execution_count": 3,
   "metadata": {
    "collapsed": false
   },
   "outputs": [],
   "source": [
    "# MNIST Dataset \n",
    "train_dataset = dsets.MNIST(root='../data', \n",
    "                            train=True, \n",
    "                            transform=transforms.ToTensor(),  \n",
    "                            download=True)\n",
    "\n",
    "test_dataset = dsets.MNIST(root='../data', \n",
    "                           train=False, \n",
    "                           transform=transforms.ToTensor())\n",
    "\n",
    "# Data Loader (Input Pipeline)\n",
    "train_loader = torch.utils.data.DataLoader(dataset=train_dataset, \n",
    "                                           batch_size=hyper_param.batch_size, \n",
    "                                           shuffle=True)\n",
    "\n",
    "test_loader = torch.utils.data.DataLoader(dataset=test_dataset, \n",
    "                                          batch_size=hyper_param.batch_size, \n",
    "                                          shuffle=False)"
   ]
  },
  {
   "cell_type": "code",
   "execution_count": 37,
   "metadata": {
    "collapsed": true
   },
   "outputs": [],
   "source": [
    "# Neural Network Model\n",
    "class Net(nn.Module):\n",
    "    def __init__(self, input_size, hidden_size, num_layers, num_classes):\n",
    "        super(Net, self).__init__()\n",
    "        self.model = nn.Sequential()\n",
    "        \n",
    "        # first layer\n",
    "        self.model.add_module('fc1', nn.Linear(input_size, hidden_size))\n",
    "        self.model.add_module('tanh1', nn.Tanh())\n",
    "        \n",
    "        # intermediate layers\n",
    "        if num_layers > 1:\n",
    "            for i in range(num_layers-1):\n",
    "                self.model.add_module('fc'+str(i+2), nn.Linear(hidden_size, hidden_size))\n",
    "                self.model.add_module('tanh'+str(i+2), nn.Tanh())\n",
    "        \n",
    "        # last layer\n",
    "        self.model.add_module('fc_last', nn.Linear(hidden_size, num_classes))\n",
    "    \n",
    "    def forward(self, x):\n",
    "        return self.model(x)"
   ]
  },
  {
   "cell_type": "code",
   "execution_count": 5,
   "metadata": {
    "collapsed": true
   },
   "outputs": [],
   "source": [
    "# Custom weights initialization\n",
    "def weights_init(m):\n",
    "    if isinstance(m, nn.Linear):\n",
    "        m.weight.data.normal_(0.0, 0.01)\n",
    "        #xavier(m.weight.data)\n",
    "        #xavier(m.bias.data)"
   ]
  },
  {
   "cell_type": "code",
   "execution_count": 38,
   "metadata": {
    "collapsed": false
   },
   "outputs": [],
   "source": [
    "net = Net(hyper_param.input_size, hyper_param.hidden_size, hyper_param.num_layers, hyper_param.num_classes)\n",
    "# net.apply(weights_init)\n",
    "\n",
    "# Loss and Optimizer\n",
    "criterion = nn.CrossEntropyLoss()\n",
    "optimizer = torch.optim.Adam(net.parameters(), lr = hyper_param.learning_rate)"
   ]
  },
  {
   "cell_type": "code",
   "execution_count": 39,
   "metadata": {
    "collapsed": false
   },
   "outputs": [
    {
     "data": {
      "text/plain": [
       "Net (\n",
       "  (model): Sequential (\n",
       "    (fc1): Linear (784 -> 20)\n",
       "    (tanh1): Tanh ()\n",
       "    (fc2): Linear (20 -> 20)\n",
       "    (tanh2): Tanh ()\n",
       "    (fc_last): Linear (20 -> 10)\n",
       "  )\n",
       ")"
      ]
     },
     "execution_count": 39,
     "metadata": {},
     "output_type": "execute_result"
    }
   ],
   "source": [
    "net"
   ]
  },
  {
   "cell_type": "code",
   "execution_count": 40,
   "metadata": {
    "collapsed": false
   },
   "outputs": [
    {
     "name": "stdout",
     "output_type": "stream",
     "text": [
      "Epoch [1/15], Step [100/600], Loss: 1.1163\n",
      "Epoch [1/15], Step [200/600], Loss: 0.5567\n",
      "Epoch [1/15], Step [300/600], Loss: 0.6276\n",
      "Epoch [1/15], Step [400/600], Loss: 0.5911\n",
      "Epoch [1/15], Step [500/600], Loss: 0.3644\n",
      "Epoch [1/15], Step [600/600], Loss: 0.2772\n",
      "Epoch [2/15], Step [100/600], Loss: 0.3488\n",
      "Epoch [2/15], Step [200/600], Loss: 0.2924\n",
      "Epoch [2/15], Step [300/600], Loss: 0.3279\n",
      "Epoch [2/15], Step [400/600], Loss: 0.2219\n",
      "Epoch [2/15], Step [500/600], Loss: 0.1887\n",
      "Epoch [2/15], Step [600/600], Loss: 0.2623\n",
      "Epoch [3/15], Step [100/600], Loss: 0.1847\n",
      "Epoch [3/15], Step [200/600], Loss: 0.2792\n",
      "Epoch [3/15], Step [300/600], Loss: 0.3734\n",
      "Epoch [3/15], Step [400/600], Loss: 0.1783\n",
      "Epoch [3/15], Step [500/600], Loss: 0.0760\n",
      "Epoch [3/15], Step [600/600], Loss: 0.2132\n",
      "Epoch [4/15], Step [100/600], Loss: 0.2193\n",
      "Epoch [4/15], Step [200/600], Loss: 0.1747\n",
      "Epoch [4/15], Step [300/600], Loss: 0.2502\n",
      "Epoch [4/15], Step [400/600], Loss: 0.2118\n",
      "Epoch [4/15], Step [500/600], Loss: 0.1848\n",
      "Epoch [4/15], Step [600/600], Loss: 0.1938\n",
      "Epoch [5/15], Step [100/600], Loss: 0.1663\n",
      "Epoch [5/15], Step [200/600], Loss: 0.1191\n",
      "Epoch [5/15], Step [300/600], Loss: 0.1470\n",
      "Epoch [5/15], Step [400/600], Loss: 0.1856\n",
      "Epoch [5/15], Step [500/600], Loss: 0.0970\n",
      "Epoch [5/15], Step [600/600], Loss: 0.0605\n",
      "Epoch [6/15], Step [100/600], Loss: 0.2360\n",
      "Epoch [6/15], Step [200/600], Loss: 0.1218\n",
      "Epoch [6/15], Step [300/600], Loss: 0.2190\n",
      "Epoch [6/15], Step [400/600], Loss: 0.1460\n",
      "Epoch [6/15], Step [500/600], Loss: 0.1502\n",
      "Epoch [6/15], Step [600/600], Loss: 0.1715\n",
      "Epoch [7/15], Step [100/600], Loss: 0.0913\n",
      "Epoch [7/15], Step [200/600], Loss: 0.1400\n",
      "Epoch [7/15], Step [300/600], Loss: 0.0799\n",
      "Epoch [7/15], Step [400/600], Loss: 0.0893\n",
      "Epoch [7/15], Step [500/600], Loss: 0.1806\n",
      "Epoch [7/15], Step [600/600], Loss: 0.0588\n",
      "Epoch [8/15], Step [100/600], Loss: 0.1204\n",
      "Epoch [8/15], Step [200/600], Loss: 0.1873\n",
      "Epoch [8/15], Step [300/600], Loss: 0.1685\n",
      "Epoch [8/15], Step [400/600], Loss: 0.1140\n",
      "Epoch [8/15], Step [500/600], Loss: 0.1203\n",
      "Epoch [8/15], Step [600/600], Loss: 0.1370\n",
      "Epoch [9/15], Step [100/600], Loss: 0.0896\n",
      "Epoch [9/15], Step [200/600], Loss: 0.0926\n",
      "Epoch [9/15], Step [300/600], Loss: 0.1645\n",
      "Epoch [9/15], Step [400/600], Loss: 0.0648\n",
      "Epoch [9/15], Step [500/600], Loss: 0.0879\n",
      "Epoch [9/15], Step [600/600], Loss: 0.1429\n",
      "Epoch [10/15], Step [100/600], Loss: 0.2500\n",
      "Epoch [10/15], Step [200/600], Loss: 0.1564\n",
      "Epoch [10/15], Step [300/600], Loss: 0.0971\n",
      "Epoch [10/15], Step [400/600], Loss: 0.0796\n",
      "Epoch [10/15], Step [500/600], Loss: 0.1286\n",
      "Epoch [10/15], Step [600/600], Loss: 0.0884\n",
      "Epoch [11/15], Step [100/600], Loss: 0.0515\n",
      "Epoch [11/15], Step [200/600], Loss: 0.1210\n",
      "Epoch [11/15], Step [300/600], Loss: 0.0931\n",
      "Epoch [11/15], Step [400/600], Loss: 0.2316\n",
      "Epoch [11/15], Step [500/600], Loss: 0.2124\n",
      "Epoch [11/15], Step [600/600], Loss: 0.1521\n",
      "Epoch [12/15], Step [100/600], Loss: 0.0326\n",
      "Epoch [12/15], Step [200/600], Loss: 0.0232\n",
      "Epoch [12/15], Step [300/600], Loss: 0.1086\n",
      "Epoch [12/15], Step [400/600], Loss: 0.0599\n",
      "Epoch [12/15], Step [500/600], Loss: 0.1185\n",
      "Epoch [12/15], Step [600/600], Loss: 0.0704\n",
      "Epoch [13/15], Step [100/600], Loss: 0.0857\n",
      "Epoch [13/15], Step [200/600], Loss: 0.0663\n",
      "Epoch [13/15], Step [300/600], Loss: 0.0801\n",
      "Epoch [13/15], Step [400/600], Loss: 0.0552\n",
      "Epoch [13/15], Step [500/600], Loss: 0.0618\n",
      "Epoch [13/15], Step [600/600], Loss: 0.0702\n",
      "Epoch [14/15], Step [100/600], Loss: 0.1117\n",
      "Epoch [14/15], Step [200/600], Loss: 0.0508\n",
      "Epoch [14/15], Step [300/600], Loss: 0.1263\n",
      "Epoch [14/15], Step [400/600], Loss: 0.1476\n",
      "Epoch [14/15], Step [500/600], Loss: 0.0472\n",
      "Epoch [14/15], Step [600/600], Loss: 0.1458\n",
      "Epoch [15/15], Step [100/600], Loss: 0.0958\n",
      "Epoch [15/15], Step [200/600], Loss: 0.0732\n",
      "Epoch [15/15], Step [300/600], Loss: 0.1674\n",
      "Epoch [15/15], Step [400/600], Loss: 0.0642\n",
      "Epoch [15/15], Step [500/600], Loss: 0.1274\n",
      "Epoch [15/15], Step [600/600], Loss: 0.1524\n"
     ]
    }
   ],
   "source": [
    "# Train the Model\n",
    "loss_conv = []\n",
    "for epoch in range(hyper_param.num_epochs):\n",
    "    for i, (images, labels) in enumerate(train_loader):  \n",
    "        # Convert torch tensor to Variable\n",
    "        images = Variable(images.view(-1, 28*28))\n",
    "        labels = Variable(labels)\n",
    "        \n",
    "        # Forward + Backward + Optimize\n",
    "        optimizer.zero_grad()  # zero the gradient buffer\n",
    "        outputs = net(images)\n",
    "        loss = criterion(outputs, labels)\n",
    "        loss.backward()\n",
    "        optimizer.step()\n",
    "        \n",
    "        if (i+1) % 100 == 0:\n",
    "            loss_conv.append(loss.data[0])\n",
    "            print ('Epoch [%d/%d], Step [%d/%d], Loss: %.4f' \n",
    "                   %(epoch+1, hyper_param.num_epochs, i+1, len(train_dataset)//hyper_param.batch_size, loss.data[0]))"
   ]
  },
  {
   "cell_type": "code",
   "execution_count": 41,
   "metadata": {
    "collapsed": false
   },
   "outputs": [
    {
     "data": {
      "image/png": "[encoded data removed]",
      "text/plain": [
       "<matplotlib.figure.Figure at 0x10e4bc410>"
      ]
     },
     "metadata": {},
     "output_type": "display_data"
    }
   ],
   "source": [
    "plt.plot(loss_conv)\n",
    "plt.xlabel('Batch')\n",
    "plt.ylabel('Loss')\n",
    "plt.show()"
   ]
  },
  {
   "cell_type": "code",
   "execution_count": 42,
   "metadata": {
    "collapsed": false
   },
   "outputs": [
    {
     "name": "stdout",
     "output_type": "stream",
     "text": [
      "Accuracy of the network on the 60000 train images: 97.533333 %\n"
     ]
    }
   ],
   "source": [
    "# Train error of the Model\n",
    "correct = 0\n",
    "total = 0\n",
    "for images, labels in train_loader:\n",
    "    images = Variable(images.view(-1, 28*28))\n",
    "    outputs = net(images)\n",
    "    _, predicted = torch.max(outputs.data, 1)\n",
    "    total += labels.size(0)\n",
    "    correct += (predicted == labels).sum()\n",
    "\n",
    "print('Accuracy of the network on the 60000 train images: %f %%' % (100. * correct / total))"
   ]
  },
  {
   "cell_type": "code",
   "execution_count": 43,
   "metadata": {
    "collapsed": false
   },
   "outputs": [
    {
     "name": "stdout",
     "output_type": "stream",
     "text": [
      "Accuracy of the network on the 10000 test images: 95.550000 %\n"
     ]
    }
   ],
   "source": [
    "# Test the Model\n",
    "correct = 0\n",
    "total = 0\n",
    "for images, labels in test_loader:\n",
    "    images = Variable(images.view(-1, 28*28))\n",
    "    outputs = net(images)4\n",
    "    _, predicted = torch.max(outputs.data, 1)\n",
    "    total += labels.size(0)\n",
    "    correct += (predicted == labels).sum()\n",
    "\n",
    "print('Accuracy of the network on the 10000 test images: %f %%' % (100. * correct / total))"
   ]
  },
  {
   "cell_type": "code",
   "execution_count": 44,
   "metadata": {
    "collapsed": false
   },
   "outputs": [],
   "source": [
    "parameters = []\n",
    "for param in net.parameters():\n",
    "    parameters.append(param.data.numpy())"
   ]
  },
  {
   "cell_type": "code",
   "execution_count": 47,
   "metadata": {
    "collapsed": false
   },
   "outputs": [
    {
     "ename": "ValueError",
     "evalue": "cannot reshape array of size 15680 into shape (784,500)",
     "output_type": "error",
     "traceback": [
      "\u001b[0;31m---------------------------------------------------------------------------\u001b[0m",
      "\u001b[0;31mValueError\u001b[0m                                Traceback (most recent call last)",
      "\u001b[0;32m<ipython-input-47-47298f46bac2>\u001b[0m in \u001b[0;36m<module>\u001b[0;34m()\u001b[0m\n\u001b[1;32m      1\u001b[0m \u001b[0;32mfor\u001b[0m \u001b[0midx\u001b[0m\u001b[0;34m,\u001b[0m \u001b[0mitem\u001b[0m \u001b[0;32min\u001b[0m \u001b[0menumerate\u001b[0m\u001b[0;34m(\u001b[0m\u001b[0mparameters\u001b[0m\u001b[0;34m[\u001b[0m\u001b[0;34m:\u001b[0m\u001b[0;34m-\u001b[0m\u001b[0;36m2\u001b[0m\u001b[0;34m]\u001b[0m\u001b[0;34m)\u001b[0m\u001b[0;34m:\u001b[0m\u001b[0;34m\u001b[0m\u001b[0m\n\u001b[1;32m      2\u001b[0m     \u001b[0;32mif\u001b[0m \u001b[0midx\u001b[0m\u001b[0;34m%\u001b[0m\u001b[0;36m2\u001b[0m \u001b[0;34m==\u001b[0m \u001b[0;36m0\u001b[0m\u001b[0;34m:\u001b[0m\u001b[0;34m\u001b[0m\u001b[0m\n\u001b[0;32m----> 3\u001b[0;31m         \u001b[0mlayer_param\u001b[0m \u001b[0;34m=\u001b[0m \u001b[0mparameters\u001b[0m\u001b[0;34m[\u001b[0m\u001b[0midx\u001b[0m\u001b[0;34m]\u001b[0m\u001b[0;34m.\u001b[0m\u001b[0mreshape\u001b[0m\u001b[0;34m(\u001b[0m\u001b[0;36m784\u001b[0m\u001b[0;34m,\u001b[0m\u001b[0;36m500\u001b[0m\u001b[0;34m)\u001b[0m \u001b[0;32mif\u001b[0m \u001b[0midx\u001b[0m \u001b[0;34m==\u001b[0m \u001b[0;36m0\u001b[0m \u001b[0;32melse\u001b[0m             \u001b[0mparameters\u001b[0m\u001b[0;34m[\u001b[0m\u001b[0midx\u001b[0m\u001b[0;34m]\u001b[0m\u001b[0;34m.\u001b[0m\u001b[0mreshape\u001b[0m\u001b[0;34m(\u001b[0m\u001b[0;36m500\u001b[0m\u001b[0;34m,\u001b[0m\u001b[0;36m500\u001b[0m\u001b[0;34m)\u001b[0m\u001b[0;34m\u001b[0m\u001b[0m\n\u001b[0m\u001b[1;32m      4\u001b[0m         \u001b[0;32mprint\u001b[0m \u001b[0;34m\"hidden layer %d had mean %f and std %f\"\u001b[0m \u001b[0;34m%\u001b[0m \u001b[0;34m(\u001b[0m\u001b[0midx\u001b[0m\u001b[0;34m/\u001b[0m\u001b[0;36m2\u001b[0m\u001b[0;34m+\u001b[0m\u001b[0;36m1\u001b[0m\u001b[0;34m,\u001b[0m             \u001b[0mnp\u001b[0m\u001b[0;34m.\u001b[0m\u001b[0mmean\u001b[0m\u001b[0;34m(\u001b[0m\u001b[0mlayer_param\u001b[0m\u001b[0;34m)\u001b[0m\u001b[0;34m,\u001b[0m \u001b[0mnp\u001b[0m\u001b[0;34m.\u001b[0m\u001b[0mstd\u001b[0m\u001b[0;34m(\u001b[0m\u001b[0mlayer_param\u001b[0m\u001b[0;34m)\u001b[0m\u001b[0;34m)\u001b[0m\u001b[0;34m\u001b[0m\u001b[0m\n",
      "\u001b[0;31mValueError\u001b[0m: cannot reshape array of size 15680 into shape (784,500)"
     ]
    }
   ],
   "source": [
    "for idx, item in enumerate(parameters[:-2]):\n",
    "    if idx%2 == 0:\n",
    "        layer_param = parameters[idx].reshape(784,500) if idx == 0 else \\\n",
    "            parameters[idx].reshape(500,500)\n",
    "        print \"hidden layer %d had mean %f and std %f\" % (idx/2+1, \\\n",
    "            np.mean(layer_param), np.std(layer_param))"
   ]
  },
  {
   "cell_type": "code",
   "execution_count": 49,
   "metadata": {
    "collapsed": false
   },
   "outputs": [
    {
     "name": "stdout",
     "output_type": "stream",
     "text": [
      "hidden layer 1 had mean -0.009493 and std 0.153664\n",
      "hidden layer 2 had mean 0.063089 and std 0.406213\n"
     ]
    }
   ],
   "source": [
    "for idx, item in enumerate(parameters[:-1]):\n",
    "    if idx%2 == 1:\n",
    "        layer_param = parameters[idx].reshape(20)\n",
    "        print \"hidden layer %d had mean %f and std %f\" % (idx/2+1, \\\n",
    "            np.mean(layer_param), np.std(layer_param))"
   ]
  },
  {
   "cell_type": "code",
   "execution_count": 52,
   "metadata": {
    "collapsed": false
   },
   "outputs": [
    {
     "data": {
      "image/png": "[encoded data removed]",
      "text/plain": [
       "<matplotlib.figure.Figure at 0x10dab77d0>"
      ]
     },
     "metadata": {},
     "output_type": "display_data"
    }
   ],
   "source": [
    "plt.hist(parameters[0].reshape(784*20), bins=100)\n",
    "plt.axis([-0.5, 0.5, 0, 3000])\n",
    "plt.show()"
   ]
  },
  {
   "cell_type": "code",
   "execution_count": null,
   "metadata": {
    "collapsed": true
   },
   "outputs": [],
   "source": []
  },
  {
   "cell_type": "code",
   "execution_count": 21,
   "metadata": {
    "collapsed": false
   },
   "outputs": [
    {
     "data": {
      "image/png": "[encoded data removed]",
      "text/plain": [
       "<matplotlib.figure.Figure at 0x10db0be50>"
      ]
     },
     "metadata": {},
     "output_type": "display_data"
    }
   ],
   "source": [
    "plt.hist(parameters[2].reshape(500*500), bins=100)\n",
    "plt.axis([-0.5, 0.5, 0, 15000])\n",
    "plt.show()"
   ]
  },
  {
   "cell_type": "code",
   "execution_count": 30,
   "metadata": {
    "collapsed": false
   },
   "outputs": [
    {
     "data": {
      "image/png": "[encoded data removed]",
      "text/plain": [
       "<matplotlib.figure.Figure at 0x10de521d0>"
      ]
     },
     "metadata": {},
     "output_type": "display_data"
    }
   ],
   "source": [
    "plt.hist(parameters[4].reshape(500*10), bins=100)\n",
    "plt.axis([-0.5, 0.5, 0, 200])\n",
    "plt.show()"
   ]
  },
  {
   "cell_type": "code",
   "execution_count": 35,
   "metadata": {
    "collapsed": false
   },
   "outputs": [
    {
     "data": {
      "image/png": "[encoded data removed]",
      "text/plain": [
       "<matplotlib.figure.Figure at 0x10e357d50>"
      ]
     },
     "metadata": {},
     "output_type": "display_data"
    }
   ],
   "source": [
    "plt.hist(parameters[1].reshape(500), bins=100)\n",
    "# plt.axis([-1., 1., 0, 15000])\n",
    "plt.show()"
   ]
  },
  {
   "cell_type": "code",
   "execution_count": 20,
   "metadata": {
    "collapsed": false
   },
   "outputs": [
    {
     "data": {
      "image/png": "[encoded data removed]",
      "text/plain": [
       "<matplotlib.figure.Figure at 0x10fdfcdd0>"
      ]
     },
     "metadata": {},
     "output_type": "display_data"
    }
   ],
   "source": [
    "plt.hist(parameters[9].reshape(500), bins=100)\n",
    "# plt.axis([-1., 1., 0, 15000])\n",
    "plt.show()"
   ]
  },
  {
   "cell_type": "code",
   "execution_count": 21,
   "metadata": {
    "collapsed": false
   },
   "outputs": [
    {
     "data": {
      "image/png": "[encoded data removed]",
      "text/plain": [
       "<matplotlib.figure.Figure at 0x1070e7d10>"
      ]
     },
     "metadata": {},
     "output_type": "display_data"
    }
   ],
   "source": [
    "plt.hist(parameters[17].reshape(500), bins=100)\n",
    "# plt.axis([-1., 1., 0, 15000])\n",
    "plt.show()"
   ]
  }
 ],
 "metadata": {
  "anaconda-cloud": {},
  "kernelspec": {
   "display_name": "Python [default]",
   "language": "python",
   "name": "python2"
  },
  "language_info": {
   "codemirror_mode": {
    "name": "ipython",
    "version": 2
   },
   "file_extension": ".py",
   "mimetype": "text/x-python",
   "name": "python",
   "nbconvert_exporter": "python",
   "pygments_lexer": "ipython2",
   "version": "2.7.12"
  }
 },
 "nbformat": 4,
 "nbformat_minor": 1
}
