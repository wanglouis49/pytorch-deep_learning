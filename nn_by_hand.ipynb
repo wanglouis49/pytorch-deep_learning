{
 "cells": [
  {
   "cell_type": "code",
   "execution_count": 2,
   "metadata": {
    "collapsed": true
   },
   "outputs": [],
   "source": [
    "import torch\n",
    "from torch.autograd import Variable"
   ]
  },
  {
   "cell_type": "code",
   "execution_count": 2,
   "metadata": {
    "collapsed": true
   },
   "outputs": [],
   "source": [
    "dtype = torch.FloatTensor\n",
    "N, D_in, H, D_out = 64, 1000, 100, 10"
   ]
  },
  {
   "cell_type": "code",
   "execution_count": 3,
   "metadata": {
    "collapsed": false
   },
   "outputs": [],
   "source": [
    "# x = torch.randn(N, D_in).type(dtype)\n",
    "# y = torch.randn(N, D_out).type(dtype)\n",
    "# w1 = torch.randn(D_in, H).type(dtype)\n",
    "# w2 = torch.randn(H, D_out).type(dtype)\n",
    "\n",
    "x = Variable(torch.randn(N, D_in), requires_grad=False)\n",
    "y = Variable(torch.randn(N, D_out), requires_grad=False)\n",
    "w1 = Variable(torch.randn(D_in, H), requires_grad=True)\n",
    "w2 = Variable(torch.randn(H, D_out), requires_grad=True)"
   ]
  },
  {
   "cell_type": "code",
   "execution_count": 4,
   "metadata": {
    "collapsed": true
   },
   "outputs": [],
   "source": [
    "learning_rate = 1e-6\n",
    "\n",
    "for t in range(500):\n",
    "#     h = x.mm(w1)\n",
    "#     h_relu = h.clamp(min=0)\n",
    "#     y_pred = h_relu.mm(w2)\n",
    "#     loss = (y_pred - y).pow(2).sum()\n",
    "\n",
    "#     grad_y_pred = 2.0 * (y_pred - y)\n",
    "#     grad_w2 = h_relu.t().mm(grad_y_pred)\n",
    "#     grad_h_relu = grad_y_pred.mm(w2.t())\n",
    "#     grad_h = grad_h_relu.clone()\n",
    "#     grad_h[h < 0] = 0\n",
    "#     grad_w1 = x.t().mm(grad_h)\n",
    "\n",
    "#     w1 -= learning_rate * grad_w1\n",
    "#     w2 -= learning_rate * grad_w2\n",
    "    \n",
    "    y_pred = x.mm(w1).clamp(min=0).mm(w2)\n",
    "    loss = (y_pred - y).pow(2).sum()\n",
    "    \n",
    "    if w1.grad: w1.grad.data.zero_()\n",
    "    if w2.grad: w2.grad.data.zero_()\n",
    "    loss.backward()\n",
    "    \n",
    "    w1.data -= learning_rate * w1.grad.data\n",
    "    w2.data -= learning_rate * w2.grad.data"
   ]
  },
  {
   "cell_type": "code",
   "execution_count": 17,
   "metadata": {
    "collapsed": false
   },
   "outputs": [],
   "source": [
    "model = torch.nn.Sequential(\n",
    "    torch.nn.Linear(D_in, H),\n",
    "    torch.nn.ReLU(),\n",
    "    torch.nn.Linear(H, D_out))\n",
    "loss_fn = torch.nn.MSELoss(size_average=False)"
   ]
  },
  {
   "cell_type": "code",
   "execution_count": 22,
   "metadata": {
    "collapsed": true
   },
   "outputs": [],
   "source": [
    "learning_rate = 1e-4\n",
    "# for t in range(500):\n",
    "#     y_pred = model(x)\n",
    "#     loss = loss_fn(y_pred, y)\n",
    "    \n",
    "#     model.zero_grad()\n",
    "#     loss.backward()\n",
    "    \n",
    "#     for param in model.parameters():\n",
    "#         param.data -= learning_rate * param.grad.data\n",
    "\n",
    "optimizer = torch.optim.Adam(model.parameters(), lr=learning_rate)\n",
    "for t in range(500):\n",
    "    y_pred = model(x)\n",
    "    loss = loss_fn(y_pred, y)\n",
    "    \n",
    "    optimizer.zero_grad()\n",
    "    loss.backward()\n",
    "    \n",
    "    optimizer.step()"
   ]
  },
  {
   "cell_type": "code",
   "execution_count": 21,
   "metadata": {
    "collapsed": false
   },
   "outputs": [
    {
     "data": {
      "text/plain": [
       "<generator object parameters at 0x10656feb0>"
      ]
     },
     "execution_count": 21,
     "metadata": {},
     "output_type": "execute_result"
    }
   ],
   "source": [
    "model.parameters()"
   ]
  }
 ],
 "metadata": {
  "kernelspec": {
   "display_name": "Python [default]",
   "language": "python",
   "name": "python2"
  },
  "language_info": {
   "codemirror_mode": {
    "name": "ipython",
    "version": 2
   },
   "file_extension": ".py",
   "mimetype": "text/x-python",
   "name": "python",
   "nbconvert_exporter": "python",
   "pygments_lexer": "ipython2",
   "version": "2.7.12"
  }
 },
 "nbformat": 4,
 "nbformat_minor": 1
}
