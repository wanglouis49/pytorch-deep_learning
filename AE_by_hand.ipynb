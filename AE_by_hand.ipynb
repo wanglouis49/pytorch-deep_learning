{
 "cells": [
  {
   "cell_type": "code",
   "execution_count": 25,
   "metadata": {
    "collapsed": true
   },
   "outputs": [],
   "source": [
    "import torch\n",
    "import torchvision.datasets as dsets\n",
    "import torchvision.transforms as transforms\n",
    "from torch.autograd import Variable\n",
    "import matplotlib.pyplot as plt"
   ]
  },
  {
   "cell_type": "code",
   "execution_count": 26,
   "metadata": {
    "collapsed": true
   },
   "outputs": [],
   "source": [
    "input_size = 784\n",
    "hidden_size = 2\n",
    "num_epochs = 5\n",
    "batch_size = 100\n",
    "learning_rate = 1e-3"
   ]
  },
  {
   "cell_type": "code",
   "execution_count": 27,
   "metadata": {
    "collapsed": true
   },
   "outputs": [],
   "source": [
    "# MNIST Dataset \n",
    "train_dataset = dsets.MNIST(root='../data', \n",
    "                            train=True, \n",
    "                            transform=transforms.ToTensor(),  \n",
    "                            download=True)\n",
    "\n",
    "test_dataset = dsets.MNIST(root='../data', \n",
    "                           train=False, \n",
    "                           transform=transforms.ToTensor())\n",
    "\n",
    "# Data Loader (Input Pipeline)\n",
    "train_loader = torch.utils.data.DataLoader(dataset=train_dataset, \n",
    "                                           batch_size=batch_size, \n",
    "                                           shuffle=True)\n",
    "\n",
    "test_loader = torch.utils.data.DataLoader(dataset=test_dataset, \n",
    "                                          batch_size=batch_size, \n",
    "                                          shuffle=False)"
   ]
  },
  {
   "cell_type": "code",
   "execution_count": 28,
   "metadata": {
    "collapsed": true
   },
   "outputs": [],
   "source": [
    "w1 = Variable(torch.randn(input_size, hidden_size), requires_grad=True)\n",
    "w2 = Variable(torch.randn(hidden_size, input_size), requires_grad=True)"
   ]
  },
  {
   "cell_type": "code",
   "execution_count": null,
   "metadata": {
    "collapsed": true
   },
   "outputs": [],
   "source": []
  },
  {
   "cell_type": "code",
   "execution_count": 29,
   "metadata": {
    "collapsed": false
   },
   "outputs": [
    {
     "name": "stdout",
     "output_type": "stream",
     "text": [
      "Epoch [1/5], Step [100/600], Loss: 19220282.0000\n",
      "Epoch [1/5], Step [200/600], Loss: 15615329.0000\n",
      "Epoch [1/5], Step [300/600], Loss: 17837494.0000\n",
      "Epoch [1/5], Step [400/600], Loss: 14303082.0000\n",
      "Epoch [1/5], Step [500/600], Loss: 15024497.0000\n",
      "Epoch [1/5], Step [600/600], Loss: 14761030.0000\n",
      "Epoch [2/5], Step [100/600], Loss: 16962040.0000\n",
      "Epoch [2/5], Step [200/600], Loss: 17132434.0000\n",
      "Epoch [2/5], Step [300/600], Loss: 16401374.0000\n",
      "Epoch [2/5], Step [400/600], Loss: 17897100.0000\n",
      "Epoch [2/5], Step [500/600], Loss: 18593282.0000\n",
      "Epoch [2/5], Step [600/600], Loss: 14919597.0000\n",
      "Epoch [3/5], Step [100/600], Loss: 18730864.0000\n",
      "Epoch [3/5], Step [200/600], Loss: 15472927.0000\n",
      "Epoch [3/5], Step [300/600], Loss: 13802315.0000\n",
      "Epoch [3/5], Step [400/600], Loss: 13612328.0000\n",
      "Epoch [3/5], Step [500/600], Loss: 16832944.0000\n",
      "Epoch [3/5], Step [600/600], Loss: 18684572.0000\n",
      "Epoch [4/5], Step [100/600], Loss: 15061685.0000\n",
      "Epoch [4/5], Step [200/600], Loss: 16621263.0000\n",
      "Epoch [4/5], Step [300/600], Loss: 14341427.0000\n",
      "Epoch [4/5], Step [400/600], Loss: 16578578.0000\n",
      "Epoch [4/5], Step [500/600], Loss: 15230437.0000\n",
      "Epoch [4/5], Step [600/600], Loss: 16685246.0000\n",
      "Epoch [5/5], Step [100/600], Loss: 13157064.0000\n",
      "Epoch [5/5], Step [200/600], Loss: 18000828.0000\n",
      "Epoch [5/5], Step [300/600], Loss: 15197580.0000\n",
      "Epoch [5/5], Step [400/600], Loss: 18264336.0000\n",
      "Epoch [5/5], Step [500/600], Loss: 17491962.0000\n",
      "Epoch [5/5], Step [600/600], Loss: 19933700.0000\n"
     ]
    }
   ],
   "source": [
    "for epoch in range(num_epochs):\n",
    "    for i, (images, _) in enumerate(train_loader):\n",
    "        x = Variable(images.view(-1, 28*28))\n",
    "        \n",
    "        h = x.mm(w1)\n",
    "        y = h.mm(w2)\n",
    "        \n",
    "        loss = (x - y).pow(2).sum()\n",
    "        \n",
    "        if w.grad: w.grad.data.zero_()\n",
    "        loss.backward()\n",
    "        \n",
    "        w.data -= learning_rate * w.grad.data\n",
    "        \n",
    "        if (i+1) % 100 == 0:\n",
    "            print ('Epoch [%d/%d], Step [%d/%d], Loss: %.4f' \n",
    "                   %(epoch+1, num_epochs, i+1, len(train_dataset)//batch_size, loss.data[0]))"
   ]
  },
  {
   "cell_type": "code",
   "execution_count": null,
   "metadata": {
    "collapsed": true
   },
   "outputs": [],
   "source": []
  }
 ],
 "metadata": {
  "anaconda-cloud": {},
  "kernelspec": {
   "display_name": "Python [default]",
   "language": "python",
   "name": "python2"
  },
  "language_info": {
   "codemirror_mode": {
    "name": "ipython",
    "version": 2
   },
   "file_extension": ".py",
   "mimetype": "text/x-python",
   "name": "python",
   "nbconvert_exporter": "python",
   "pygments_lexer": "ipython2",
   "version": "2.7.12"
  }
 },
 "nbformat": 4,
 "nbformat_minor": 1
}
